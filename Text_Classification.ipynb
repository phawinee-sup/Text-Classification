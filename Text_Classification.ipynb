{
  "nbformat": 4,
  "nbformat_minor": 0,
  "metadata": {
    "colab": {
      "provenance": []
    },
    "kernelspec": {
      "name": "python3",
      "display_name": "Python 3"
    },
    "language_info": {
      "name": "python"
    }
  },
  "cells": [
    {
      "cell_type": "markdown",
      "source": [
        "# Importing"
      ],
      "metadata": {
        "id": "OLZiexHoHP71"
      }
    },
    {
      "cell_type": "code",
      "execution_count": null,
      "metadata": {
        "colab": {
          "base_uri": "https://localhost:8080/"
        },
        "id": "HWpm_fcUHF7_",
        "outputId": "85a06c34-91b7-4101-bf64-5fa7de1370fa"
      },
      "outputs": [
        {
          "output_type": "stream",
          "name": "stderr",
          "text": [
            "[nltk_data] Downloading package wordnet to /root/nltk_data...\n",
            "[nltk_data]   Package wordnet is already up-to-date!\n"
          ]
        }
      ],
      "source": [
        "import pandas as pd\n",
        "import string\n",
        "import requests\n",
        "import numpy as np\n",
        "\n",
        "import matplotlib.pyplot as plt\n",
        "from wordcloud import WordCloud, STOPWORDS\n",
        "from sklearn.feature_extraction.text import CountVectorizer\n",
        "from sklearn.feature_extraction.text import TfidfVectorizer\n",
        "import nltk\n",
        "nltk.download('wordnet')\n",
        "from nltk.stem import WordNetLemmatizer\n",
        "from sklearn.naive_bayes import MultinomialNB\n",
        "from sklearn.tree import DecisionTreeClassifier\n",
        "from sklearn.model_selection import train_test_split\n",
        "from sklearn.metrics import confusion_matrix\n",
        "from sklearn.metrics import classification_report"
      ]
    },
    {
      "cell_type": "markdown",
      "source": [
        "# Getting the data"
      ],
      "metadata": {
        "id": "0nuxsFWbHYmv"
      }
    },
    {
      "cell_type": "markdown",
      "source": [
        "Refference:\n",
        "\n",
        "https://www.kaggle.com/datasets/owaiskhan9654/pubmed-multilabel-text-classification"
      ],
      "metadata": {
        "id": "OOV9jmFlLiIW"
      }
    },
    {
      "cell_type": "markdown",
      "source": [
        "Download file from drive"
      ],
      "metadata": {
        "id": "SqbdEQzUMv3D"
      }
    },
    {
      "cell_type": "code",
      "source": [
        "file_id = \"1Og6j-0uOC-Di89rbTgq8Q3_bsoHAkPZ6\"\n",
        "url = f\"https://drive.google.com/uc?export=download&id={file_id}\"\n",
        "\n",
        "output_file = \"PubMed Multi Label Text Classification Dataset.csv\"\n",
        "\n",
        "response = requests.get(url)\n",
        "if response.status_code == 200:\n",
        "    with open(output_file, 'wb') as f:\n",
        "        f.write(response.content)\n",
        "    print(f\"File downloaded successfully as {output_file}\")\n",
        "else:\n",
        "    print(f\"Failed to download file. Status code: {response.status_code}\")"
      ],
      "metadata": {
        "colab": {
          "base_uri": "https://localhost:8080/"
        },
        "id": "2QZOXbu2JVGt",
        "outputId": "c0d4541b-9093-4fda-f3ee-334e0f46b710"
      },
      "execution_count": null,
      "outputs": [
        {
          "output_type": "stream",
          "name": "stdout",
          "text": [
            "File downloaded successfully as PubMed Multi Label Text Classification Dataset.csv\n"
          ]
        }
      ]
    },
    {
      "cell_type": "code",
      "source": [
        "pubmed_data = pd.read_csv(\"PubMed Multi Label Text Classification Dataset.csv\")"
      ],
      "metadata": {
        "id": "ItSmPAskJ06W"
      },
      "execution_count": null,
      "outputs": []
    },
    {
      "cell_type": "code",
      "source": [
        "pubmed_data.columns"
      ],
      "metadata": {
        "colab": {
          "base_uri": "https://localhost:8080/"
        },
        "id": "NmP_Ujo6LWM1",
        "outputId": "9901f8c7-1691-4a66-f169-4c78324f30f2"
      },
      "execution_count": null,
      "outputs": [
        {
          "output_type": "execute_result",
          "data": {
            "text/plain": [
              "Index(['Title', 'abstractText', 'meshMajor', 'pmid', 'meshid', 'meshroot', 'A',\n",
              "       'B', 'C', 'D', 'E', 'F', 'G', 'H', 'I', 'J', 'K', 'L', 'M', 'N', 'V',\n",
              "       'Z'],\n",
              "      dtype='object')"
            ]
          },
          "metadata": {},
          "execution_count": 547
        }
      ]
    },
    {
      "cell_type": "markdown",
      "source": [
        "Drop unused columns"
      ],
      "metadata": {
        "id": "xypDXzb-M4Q-"
      }
    },
    {
      "cell_type": "code",
      "source": [
        "pubmed_data.drop(columns=['A', 'B', 'C', 'D', 'E', 'F', 'G', 'H', 'I', 'J', 'K', 'L',\n",
        "                          'M', 'N', 'V','Z'], inplace=True)"
      ],
      "metadata": {
        "id": "Pv8qGcnhMirs"
      },
      "execution_count": null,
      "outputs": []
    },
    {
      "cell_type": "code",
      "source": [
        "pubmed_data.head()"
      ],
      "metadata": {
        "colab": {
          "base_uri": "https://localhost:8080/",
          "height": 553
        },
        "id": "bH7pw7XpMrIc",
        "outputId": "f161eba0-6f30-42f2-c3c6-f0f17b8312fd"
      },
      "execution_count": null,
      "outputs": [
        {
          "output_type": "execute_result",
          "data": {
            "text/plain": [
              "                                               Title  \\\n",
              "0  Expression of p53 and coexistence of HPV in pr...   \n",
              "1  Vitamin D status in pregnant Indian women acro...   \n",
              "2  [Identification of a functionally important di...   \n",
              "3  Multilayer capsules: a promising microencapsul...   \n",
              "4  Nanohydrogel with N,N'-bis(acryloyl)cystine cr...   \n",
              "\n",
              "                                        abstractText  \\\n",
              "0  Fifty-four paraffin embedded tissue sections f...   \n",
              "1  The present cross-sectional study was conducte...   \n",
              "2  The occurrence of individual amino acids and d...   \n",
              "3  In 1980, Lim and Sun introduced a microcapsule...   \n",
              "4  Substantially improved hydrogel particles base...   \n",
              "\n",
              "                                           meshMajor      pmid  \\\n",
              "0  ['DNA Probes, HPV', 'DNA, Viral', 'Female', 'H...   8549602   \n",
              "1  ['Adult', 'Alkaline Phosphatase', 'Breast Feed...  21736816   \n",
              "2  ['Amino Acid Sequence', 'Analgesics, Opioid', ...  19060934   \n",
              "3  ['Acrylic Resins', 'Alginates', 'Animals', 'Bi...  11426874   \n",
              "4  ['Antineoplastic Agents', 'Cell Proliferation'...  28323099   \n",
              "\n",
              "                                              meshid  \\\n",
              "0  [['D13.444.600.223.555', 'D27.505.259.750.600....   \n",
              "1  [['M01.060.116'], ['D08.811.277.352.650.035'],...   \n",
              "2  [['G02.111.570.060', 'L01.453.245.667.060'], [...   \n",
              "3  [['D05.750.716.822.111', 'D25.720.716.822.111'...   \n",
              "4  [['D27.505.954.248'], ['G04.161.750', 'G07.345...   \n",
              "\n",
              "                                            meshroot  \n",
              "0  ['Chemicals and Drugs [D]', 'Organisms [B]', '...  \n",
              "1  ['Named Groups [M]', 'Chemicals and Drugs [D]'...  \n",
              "2  ['Phenomena and Processes [G]', 'Information S...  \n",
              "3  ['Chemicals and Drugs [D]', 'Technology, Indus...  \n",
              "4  ['Chemicals and Drugs [D]', 'Phenomena and Pro...  "
            ],
            "text/html": [
              "\n",
              "  <div id=\"df-a423efe0-febb-4065-bb0c-21d93fb01c23\" class=\"colab-df-container\">\n",
              "    <div>\n",
              "<style scoped>\n",
              "    .dataframe tbody tr th:only-of-type {\n",
              "        vertical-align: middle;\n",
              "    }\n",
              "\n",
              "    .dataframe tbody tr th {\n",
              "        vertical-align: top;\n",
              "    }\n",
              "\n",
              "    .dataframe thead th {\n",
              "        text-align: right;\n",
              "    }\n",
              "</style>\n",
              "<table border=\"1\" class=\"dataframe\">\n",
              "  <thead>\n",
              "    <tr style=\"text-align: right;\">\n",
              "      <th></th>\n",
              "      <th>Title</th>\n",
              "      <th>abstractText</th>\n",
              "      <th>meshMajor</th>\n",
              "      <th>pmid</th>\n",
              "      <th>meshid</th>\n",
              "      <th>meshroot</th>\n",
              "    </tr>\n",
              "  </thead>\n",
              "  <tbody>\n",
              "    <tr>\n",
              "      <th>0</th>\n",
              "      <td>Expression of p53 and coexistence of HPV in pr...</td>\n",
              "      <td>Fifty-four paraffin embedded tissue sections f...</td>\n",
              "      <td>['DNA Probes, HPV', 'DNA, Viral', 'Female', 'H...</td>\n",
              "      <td>8549602</td>\n",
              "      <td>[['D13.444.600.223.555', 'D27.505.259.750.600....</td>\n",
              "      <td>['Chemicals and Drugs [D]', 'Organisms [B]', '...</td>\n",
              "    </tr>\n",
              "    <tr>\n",
              "      <th>1</th>\n",
              "      <td>Vitamin D status in pregnant Indian women acro...</td>\n",
              "      <td>The present cross-sectional study was conducte...</td>\n",
              "      <td>['Adult', 'Alkaline Phosphatase', 'Breast Feed...</td>\n",
              "      <td>21736816</td>\n",
              "      <td>[['M01.060.116'], ['D08.811.277.352.650.035'],...</td>\n",
              "      <td>['Named Groups [M]', 'Chemicals and Drugs [D]'...</td>\n",
              "    </tr>\n",
              "    <tr>\n",
              "      <th>2</th>\n",
              "      <td>[Identification of a functionally important di...</td>\n",
              "      <td>The occurrence of individual amino acids and d...</td>\n",
              "      <td>['Amino Acid Sequence', 'Analgesics, Opioid', ...</td>\n",
              "      <td>19060934</td>\n",
              "      <td>[['G02.111.570.060', 'L01.453.245.667.060'], [...</td>\n",
              "      <td>['Phenomena and Processes [G]', 'Information S...</td>\n",
              "    </tr>\n",
              "    <tr>\n",
              "      <th>3</th>\n",
              "      <td>Multilayer capsules: a promising microencapsul...</td>\n",
              "      <td>In 1980, Lim and Sun introduced a microcapsule...</td>\n",
              "      <td>['Acrylic Resins', 'Alginates', 'Animals', 'Bi...</td>\n",
              "      <td>11426874</td>\n",
              "      <td>[['D05.750.716.822.111', 'D25.720.716.822.111'...</td>\n",
              "      <td>['Chemicals and Drugs [D]', 'Technology, Indus...</td>\n",
              "    </tr>\n",
              "    <tr>\n",
              "      <th>4</th>\n",
              "      <td>Nanohydrogel with N,N'-bis(acryloyl)cystine cr...</td>\n",
              "      <td>Substantially improved hydrogel particles base...</td>\n",
              "      <td>['Antineoplastic Agents', 'Cell Proliferation'...</td>\n",
              "      <td>28323099</td>\n",
              "      <td>[['D27.505.954.248'], ['G04.161.750', 'G07.345...</td>\n",
              "      <td>['Chemicals and Drugs [D]', 'Phenomena and Pro...</td>\n",
              "    </tr>\n",
              "  </tbody>\n",
              "</table>\n",
              "</div>\n",
              "    <div class=\"colab-df-buttons\">\n",
              "\n",
              "  <div class=\"colab-df-container\">\n",
              "    <button class=\"colab-df-convert\" onclick=\"convertToInteractive('df-a423efe0-febb-4065-bb0c-21d93fb01c23')\"\n",
              "            title=\"Convert this dataframe to an interactive table.\"\n",
              "            style=\"display:none;\">\n",
              "\n",
              "  <svg xmlns=\"http://www.w3.org/2000/svg\" height=\"24px\" viewBox=\"0 -960 960 960\">\n",
              "    <path d=\"M120-120v-720h720v720H120Zm60-500h600v-160H180v160Zm220 220h160v-160H400v160Zm0 220h160v-160H400v160ZM180-400h160v-160H180v160Zm440 0h160v-160H620v160ZM180-180h160v-160H180v160Zm440 0h160v-160H620v160Z\"/>\n",
              "  </svg>\n",
              "    </button>\n",
              "\n",
              "  <style>\n",
              "    .colab-df-container {\n",
              "      display:flex;\n",
              "      gap: 12px;\n",
              "    }\n",
              "\n",
              "    .colab-df-convert {\n",
              "      background-color: #E8F0FE;\n",
              "      border: none;\n",
              "      border-radius: 50%;\n",
              "      cursor: pointer;\n",
              "      display: none;\n",
              "      fill: #1967D2;\n",
              "      height: 32px;\n",
              "      padding: 0 0 0 0;\n",
              "      width: 32px;\n",
              "    }\n",
              "\n",
              "    .colab-df-convert:hover {\n",
              "      background-color: #E2EBFA;\n",
              "      box-shadow: 0px 1px 2px rgba(60, 64, 67, 0.3), 0px 1px 3px 1px rgba(60, 64, 67, 0.15);\n",
              "      fill: #174EA6;\n",
              "    }\n",
              "\n",
              "    .colab-df-buttons div {\n",
              "      margin-bottom: 4px;\n",
              "    }\n",
              "\n",
              "    [theme=dark] .colab-df-convert {\n",
              "      background-color: #3B4455;\n",
              "      fill: #D2E3FC;\n",
              "    }\n",
              "\n",
              "    [theme=dark] .colab-df-convert:hover {\n",
              "      background-color: #434B5C;\n",
              "      box-shadow: 0px 1px 3px 1px rgba(0, 0, 0, 0.15);\n",
              "      filter: drop-shadow(0px 1px 2px rgba(0, 0, 0, 0.3));\n",
              "      fill: #FFFFFF;\n",
              "    }\n",
              "  </style>\n",
              "\n",
              "    <script>\n",
              "      const buttonEl =\n",
              "        document.querySelector('#df-a423efe0-febb-4065-bb0c-21d93fb01c23 button.colab-df-convert');\n",
              "      buttonEl.style.display =\n",
              "        google.colab.kernel.accessAllowed ? 'block' : 'none';\n",
              "\n",
              "      async function convertToInteractive(key) {\n",
              "        const element = document.querySelector('#df-a423efe0-febb-4065-bb0c-21d93fb01c23');\n",
              "        const dataTable =\n",
              "          await google.colab.kernel.invokeFunction('convertToInteractive',\n",
              "                                                    [key], {});\n",
              "        if (!dataTable) return;\n",
              "\n",
              "        const docLinkHtml = 'Like what you see? Visit the ' +\n",
              "          '<a target=\"_blank\" href=https://colab.research.google.com/notebooks/data_table.ipynb>data table notebook</a>'\n",
              "          + ' to learn more about interactive tables.';\n",
              "        element.innerHTML = '';\n",
              "        dataTable['output_type'] = 'display_data';\n",
              "        await google.colab.output.renderOutput(dataTable, element);\n",
              "        const docLink = document.createElement('div');\n",
              "        docLink.innerHTML = docLinkHtml;\n",
              "        element.appendChild(docLink);\n",
              "      }\n",
              "    </script>\n",
              "  </div>\n",
              "\n",
              "\n",
              "<div id=\"df-b20c5a46-1ad9-44a0-b22c-bdf4a49e6e6d\">\n",
              "  <button class=\"colab-df-quickchart\" onclick=\"quickchart('df-b20c5a46-1ad9-44a0-b22c-bdf4a49e6e6d')\"\n",
              "            title=\"Suggest charts\"\n",
              "            style=\"display:none;\">\n",
              "\n",
              "<svg xmlns=\"http://www.w3.org/2000/svg\" height=\"24px\"viewBox=\"0 0 24 24\"\n",
              "     width=\"24px\">\n",
              "    <g>\n",
              "        <path d=\"M19 3H5c-1.1 0-2 .9-2 2v14c0 1.1.9 2 2 2h14c1.1 0 2-.9 2-2V5c0-1.1-.9-2-2-2zM9 17H7v-7h2v7zm4 0h-2V7h2v10zm4 0h-2v-4h2v4z\"/>\n",
              "    </g>\n",
              "</svg>\n",
              "  </button>\n",
              "\n",
              "<style>\n",
              "  .colab-df-quickchart {\n",
              "      --bg-color: #E8F0FE;\n",
              "      --fill-color: #1967D2;\n",
              "      --hover-bg-color: #E2EBFA;\n",
              "      --hover-fill-color: #174EA6;\n",
              "      --disabled-fill-color: #AAA;\n",
              "      --disabled-bg-color: #DDD;\n",
              "  }\n",
              "\n",
              "  [theme=dark] .colab-df-quickchart {\n",
              "      --bg-color: #3B4455;\n",
              "      --fill-color: #D2E3FC;\n",
              "      --hover-bg-color: #434B5C;\n",
              "      --hover-fill-color: #FFFFFF;\n",
              "      --disabled-bg-color: #3B4455;\n",
              "      --disabled-fill-color: #666;\n",
              "  }\n",
              "\n",
              "  .colab-df-quickchart {\n",
              "    background-color: var(--bg-color);\n",
              "    border: none;\n",
              "    border-radius: 50%;\n",
              "    cursor: pointer;\n",
              "    display: none;\n",
              "    fill: var(--fill-color);\n",
              "    height: 32px;\n",
              "    padding: 0;\n",
              "    width: 32px;\n",
              "  }\n",
              "\n",
              "  .colab-df-quickchart:hover {\n",
              "    background-color: var(--hover-bg-color);\n",
              "    box-shadow: 0 1px 2px rgba(60, 64, 67, 0.3), 0 1px 3px 1px rgba(60, 64, 67, 0.15);\n",
              "    fill: var(--button-hover-fill-color);\n",
              "  }\n",
              "\n",
              "  .colab-df-quickchart-complete:disabled,\n",
              "  .colab-df-quickchart-complete:disabled:hover {\n",
              "    background-color: var(--disabled-bg-color);\n",
              "    fill: var(--disabled-fill-color);\n",
              "    box-shadow: none;\n",
              "  }\n",
              "\n",
              "  .colab-df-spinner {\n",
              "    border: 2px solid var(--fill-color);\n",
              "    border-color: transparent;\n",
              "    border-bottom-color: var(--fill-color);\n",
              "    animation:\n",
              "      spin 1s steps(1) infinite;\n",
              "  }\n",
              "\n",
              "  @keyframes spin {\n",
              "    0% {\n",
              "      border-color: transparent;\n",
              "      border-bottom-color: var(--fill-color);\n",
              "      border-left-color: var(--fill-color);\n",
              "    }\n",
              "    20% {\n",
              "      border-color: transparent;\n",
              "      border-left-color: var(--fill-color);\n",
              "      border-top-color: var(--fill-color);\n",
              "    }\n",
              "    30% {\n",
              "      border-color: transparent;\n",
              "      border-left-color: var(--fill-color);\n",
              "      border-top-color: var(--fill-color);\n",
              "      border-right-color: var(--fill-color);\n",
              "    }\n",
              "    40% {\n",
              "      border-color: transparent;\n",
              "      border-right-color: var(--fill-color);\n",
              "      border-top-color: var(--fill-color);\n",
              "    }\n",
              "    60% {\n",
              "      border-color: transparent;\n",
              "      border-right-color: var(--fill-color);\n",
              "    }\n",
              "    80% {\n",
              "      border-color: transparent;\n",
              "      border-right-color: var(--fill-color);\n",
              "      border-bottom-color: var(--fill-color);\n",
              "    }\n",
              "    90% {\n",
              "      border-color: transparent;\n",
              "      border-bottom-color: var(--fill-color);\n",
              "    }\n",
              "  }\n",
              "</style>\n",
              "\n",
              "  <script>\n",
              "    async function quickchart(key) {\n",
              "      const quickchartButtonEl =\n",
              "        document.querySelector('#' + key + ' button');\n",
              "      quickchartButtonEl.disabled = true;  // To prevent multiple clicks.\n",
              "      quickchartButtonEl.classList.add('colab-df-spinner');\n",
              "      try {\n",
              "        const charts = await google.colab.kernel.invokeFunction(\n",
              "            'suggestCharts', [key], {});\n",
              "      } catch (error) {\n",
              "        console.error('Error during call to suggestCharts:', error);\n",
              "      }\n",
              "      quickchartButtonEl.classList.remove('colab-df-spinner');\n",
              "      quickchartButtonEl.classList.add('colab-df-quickchart-complete');\n",
              "    }\n",
              "    (() => {\n",
              "      let quickchartButtonEl =\n",
              "        document.querySelector('#df-b20c5a46-1ad9-44a0-b22c-bdf4a49e6e6d button');\n",
              "      quickchartButtonEl.style.display =\n",
              "        google.colab.kernel.accessAllowed ? 'block' : 'none';\n",
              "    })();\n",
              "  </script>\n",
              "</div>\n",
              "\n",
              "    </div>\n",
              "  </div>\n"
            ],
            "application/vnd.google.colaboratory.intrinsic+json": {
              "type": "dataframe",
              "variable_name": "pubmed_data",
              "summary": "{\n  \"name\": \"pubmed_data\",\n  \"rows\": 10000,\n  \"fields\": [\n    {\n      \"column\": \"Title\",\n      \"properties\": {\n        \"dtype\": \"string\",\n        \"num_unique_values\": 9996,\n        \"samples\": [\n          \"Expression of BET genes in testis of men with different spermatogenic impairments.\",\n          \"D-dimer for the exclusion of venous thromboembolism: comparison of a new automated latex particle immunoassay (MDA D-dimer) with an established enzyme-linked fluorescent assay (VIDAS D-dimer).\",\n          \"Unilateral hyperplasia of lamina and spinous process of C6 vertebra: case report.\"\n        ],\n        \"semantic_type\": \"\",\n        \"description\": \"\"\n      }\n    },\n    {\n      \"column\": \"abstractText\",\n      \"properties\": {\n        \"dtype\": \"string\",\n        \"num_unique_values\": 9997,\n        \"samples\": [\n          \"INTRODUCTION: Follicular dendritic cell sarcoma (FDCS) is an uncommon tumor that usually arises in lymph nodes, especially in the cervical, mediastinal, or axillary areas, but rarely in extranodal sites. Few cases have been reported in English literature so far. The scarcity may be partially due to under-recognition of this entity. Through this case report we analyzed the difficulties of clinical and pathological diagnosis of this rare tumor with its unusual location mistaken it with gynecological cancer's iliac lymph nodes metastases. We also discussed its systemic treatment options.CASE REPORT: A 48-year-old woman presented with a loss of weight and epigastralgia. Computed tomography (CT) showed a mass of 5cm of diameter, located close to iliac vessels. Investigation for gynecologic cancers was negative and a partial tumor resection was performed. Pathological examination readdressed the diagnosis of FDCS. Microscopically, the tumor was composed of a proliferation of spindle to ovoid cells arranged in fascicles, whorls and storiform pattern, accompanied by sprinkling of small lymphocytes. The nuclei of the tumor cells were elongated spindled or ovoid shape with vesicular chromatin and distinct small nuclei. Immunohistochemically, the tumor cells were positive for CD21, CD23 but negative for any type of cytokeratin. Even pathological diagnosis was misleading, therapeutic management was more challenging with this unusual location particularly associated with an aggressive clinical course. Two lines of chemotherapy gave different responses.CONCLUSION: Clinical and pathological diagnosis of retroperitoneal FDCS needs vigilance. Both lymphoma and sarcoma chemotherapy regimens are effective. Due to this pathology's rareness we highlighted a lack of treatment consensus and proposed options.\",\n          \"The occurrence of Oceanic Anoxic Event 2 (OAE2) 94 million years ago is considered to be one of the largest carbon cycle perturbations in the Earth's history. The marked increase in the spatial extent of the anoxic conditions in the world's oceans associated with OAE2 resulted in the mass accumulation of organic-rich sediments. Although extensive oceanographic studies of OAE2 have been undertaken in the Atlantic Ocean, the Tethys Sea, and the epicontinental seas of Europe and America, little is known about OAE2 in the Pacific Ocean. Here, we present high-resolution carbon-isotope and degree of pyritization (DOP) data from marine sequences that formed along the continental margins of North America and Asia below the northeastern and northwestern Pacific Ocean. The predominance of low DOP values in these areas revealed that the continental margins of the Pacific Ocean were oxic for most of the OAE2 interval.\",\n          \"Large numbers of samples can be efficiently processed through sequential reaction steps using a 96-pronged support that projects into individual microtiter wells. The support was constructed by creating a porous surface on a disposable polystyrene manifold, with avidin coupled to this greatly expanded surface. The shape and high binding capacity of the device allow the parallel transfer of large sets of reaction intermediates between different binding or enzymatic processing steps. We have applied the support to increase the efficiency of preparative and analytical molecular genetic reactions. The support also reduce the risks of sample mix-up and contamination in applications such as PCR and DNA sequencing.\"\n        ],\n        \"semantic_type\": \"\",\n        \"description\": \"\"\n      }\n    },\n    {\n      \"column\": \"meshMajor\",\n      \"properties\": {\n        \"dtype\": \"string\",\n        \"num_unique_values\": 9996,\n        \"samples\": [\n          \"['Azoospermia', 'Biopsy', 'Cell Cycle Proteins', 'Epigenesis, Genetic', 'Gene Expression', 'Humans', 'Male', 'Nuclear Proteins', 'Prospective Studies', 'Protein-Serine-Threonine Kinases', 'RNA-Binding Proteins', 'Sertoli Cell-Only Syndrome', 'Spermatids', 'Spermatogenesis', 'Spermatozoa', 'Transcription Factors']\",\n          \"['Enzyme-Linked Immunosorbent Assay', 'Fibrin Fibrinogen Degradation Products', 'Humans', 'Immunoassay', 'Sensitivity and Specificity', 'Venous Thrombosis']\",\n          \"['Animals', 'DNA', 'DNA, Neoplasm', 'Leukemia, Experimental', 'Liver', 'Mice', 'Mice, Inbred BALB C', 'Nucleic Acid Conformation', 'Rats', 'Spleen', 'Temperature', 'Tumor Cells, Cultured']\"\n        ],\n        \"semantic_type\": \"\",\n        \"description\": \"\"\n      }\n    },\n    {\n      \"column\": \"pmid\",\n      \"properties\": {\n        \"dtype\": \"number\",\n        \"std\": 9376775,\n        \"min\": 506,\n        \"max\": 33211903,\n        \"num_unique_values\": 9997,\n        \"samples\": [\n          29395417,\n          21407200,\n          8323026\n        ],\n        \"semantic_type\": \"\",\n        \"description\": \"\"\n      }\n    },\n    {\n      \"column\": \"meshid\",\n      \"properties\": {\n        \"dtype\": \"string\",\n        \"num_unique_values\": 9916,\n        \"samples\": [\n          \"[['M01.060.406'], ['D13.444.735.544.355.250.235', 'G05.360.335.355.250.235', 'G05.365.590.195'], ['E05.393.760.700.300'], ['B01.050.150.900.649.313.988.400.112.400.400'], ['G05.365.590.029.530'], ['G05.365.590'], ['C04.557.450.565.575.650', 'C04.557.450.795.620'], ['A02.835.232.043.650.883'], ['G02.111.873', 'G05.297.700'], ['D12.776.157.687.650', 'D12.776.260.820', 'D12.776.624.776.775', 'D12.776.660.720.650', 'D12.776.744.845']]\",\n          \"[['M01.060.057'], ['M01.060.116'], ['F02.463.785.373.346'], ['F01.145.802.279'], ['F02.463.425.234'], ['B01.050.150.900.649.313.988.400.112.400.400'], ['M01.390'], ['M01.060.116.630'], ['E05.723.729'], ['M01.778'], ['E05.318.308.980', 'N05.715.360.300.800', 'N06.850.520.308.980'], ['Z01.542.363'], ['Z01.107.567.875'], ['M01.975'], ['M01.060.116.815']]\",\n          \"[['M01.060.116.100'], ['Z01.252.474.164'], ['E05.318.372.500.750', 'N05.715.360.330.500.750', 'N06.850.520.450.500.750'], ['E02.520.360', 'E02.926.500'], ['E05.318.372.500.750.249', 'N05.715.360.330.500.750.350', 'N06.850.520.450.500.750.350'], ['B01.050.150.900.649.313.988.400.112.400.400'], ['C10.228.140.300.510.600', 'C14.907.055.635', 'C14.907.253.560.300'], ['M01.060.116.630'], ['E01.789.800', 'N04.761.559.590.800', 'N05.715.360.575.575.800']]\"\n        ],\n        \"semantic_type\": \"\",\n        \"description\": \"\"\n      }\n    },\n    {\n      \"column\": \"meshroot\",\n      \"properties\": {\n        \"dtype\": \"string\",\n        \"num_unique_values\": 7038,\n        \"samples\": [\n          \"['Analytical, Diagnostic and Therapeutic Techniques, and Equipment [E]', 'Anthropology, Education, Sociology, and Social Phenomena [I]', 'Health Care [N]', 'Phenomena and Processes [G]', 'Disciplines and Occupations [H]', 'Organisms [B]', 'Geographicals [Z]']\",\n          \"['Geographicals [Z]', 'Health Care [N]', 'Organisms [B]']\",\n          \"['Named Groups [M]', 'Analytical, Diagnostic and Therapeutic Techniques, and Equipment [E]', 'Psychiatry and Psychology [F]', 'Phenomena and Processes [G]', 'Organisms [B]', 'Information Science [L]', 'Anatomy [A]']\"\n        ],\n        \"semantic_type\": \"\",\n        \"description\": \"\"\n      }\n    }\n  ]\n}"
            }
          },
          "metadata": {},
          "execution_count": 549
        }
      ]
    },
    {
      "cell_type": "code",
      "source": [
        "pubmed_data.info()"
      ],
      "metadata": {
        "colab": {
          "base_uri": "https://localhost:8080/"
        },
        "id": "Q6G8NUVHM9gu",
        "outputId": "9261e3c8-800b-4f5f-e9f6-9d392f7790e1"
      },
      "execution_count": null,
      "outputs": [
        {
          "output_type": "stream",
          "name": "stdout",
          "text": [
            "<class 'pandas.core.frame.DataFrame'>\n",
            "RangeIndex: 10000 entries, 0 to 9999\n",
            "Data columns (total 6 columns):\n",
            " #   Column        Non-Null Count  Dtype \n",
            "---  ------        --------------  ----- \n",
            " 0   Title         9999 non-null   object\n",
            " 1   abstractText  10000 non-null  object\n",
            " 2   meshMajor     10000 non-null  object\n",
            " 3   pmid          10000 non-null  int64 \n",
            " 4   meshid        10000 non-null  object\n",
            " 5   meshroot      10000 non-null  object\n",
            "dtypes: int64(1), object(5)\n",
            "memory usage: 468.9+ KB\n"
          ]
        }
      ]
    },
    {
      "cell_type": "markdown",
      "source": [
        "Drop null value columns"
      ],
      "metadata": {
        "id": "0njTa1y8NG_4"
      }
    },
    {
      "cell_type": "code",
      "source": [
        "pubmed_data.dropna(inplace=True)"
      ],
      "metadata": {
        "id": "YnB3W3PHNNKV"
      },
      "execution_count": null,
      "outputs": []
    },
    {
      "cell_type": "code",
      "source": [
        "pubmed_data.info()"
      ],
      "metadata": {
        "colab": {
          "base_uri": "https://localhost:8080/"
        },
        "id": "Vadr_M8nNRP-",
        "outputId": "3130b880-ef51-4d30-8c3c-6c9fb98a348a"
      },
      "execution_count": null,
      "outputs": [
        {
          "output_type": "stream",
          "name": "stdout",
          "text": [
            "<class 'pandas.core.frame.DataFrame'>\n",
            "Index: 9999 entries, 0 to 9999\n",
            "Data columns (total 6 columns):\n",
            " #   Column        Non-Null Count  Dtype \n",
            "---  ------        --------------  ----- \n",
            " 0   Title         9999 non-null   object\n",
            " 1   abstractText  9999 non-null   object\n",
            " 2   meshMajor     9999 non-null   object\n",
            " 3   pmid          9999 non-null   int64 \n",
            " 4   meshid        9999 non-null   object\n",
            " 5   meshroot      9999 non-null   object\n",
            "dtypes: int64(1), object(5)\n",
            "memory usage: 546.8+ KB\n"
          ]
        }
      ]
    },
    {
      "cell_type": "code",
      "source": [
        "pubmed_data.columns = pubmed_data.columns.str.lower()"
      ],
      "metadata": {
        "id": "-ZwGYygINaQq"
      },
      "execution_count": null,
      "outputs": []
    },
    {
      "cell_type": "code",
      "source": [
        "pubmed_data.info()"
      ],
      "metadata": {
        "colab": {
          "base_uri": "https://localhost:8080/"
        },
        "id": "EDs78wS1Nk1F",
        "outputId": "ec5a244e-e8bb-4f86-b23d-a1cc5fc03f83"
      },
      "execution_count": null,
      "outputs": [
        {
          "output_type": "stream",
          "name": "stdout",
          "text": [
            "<class 'pandas.core.frame.DataFrame'>\n",
            "Index: 9999 entries, 0 to 9999\n",
            "Data columns (total 6 columns):\n",
            " #   Column        Non-Null Count  Dtype \n",
            "---  ------        --------------  ----- \n",
            " 0   title         9999 non-null   object\n",
            " 1   abstracttext  9999 non-null   object\n",
            " 2   meshmajor     9999 non-null   object\n",
            " 3   pmid          9999 non-null   int64 \n",
            " 4   meshid        9999 non-null   object\n",
            " 5   meshroot      9999 non-null   object\n",
            "dtypes: int64(1), object(5)\n",
            "memory usage: 546.8+ KB\n"
          ]
        }
      ]
    },
    {
      "cell_type": "markdown",
      "source": [
        "# Collecting unseen data for final evaluation"
      ],
      "metadata": {
        "id": "QYABL_W9W9pA"
      }
    },
    {
      "cell_type": "markdown",
      "source": [
        "Collect last 10 rows to be unseen data"
      ],
      "metadata": {
        "id": "Uv5Zx7DWXRAf"
      }
    },
    {
      "cell_type": "code",
      "source": [
        "keep = len(pubmed_data) - 10\n",
        "tmp = pubmed_data\n",
        "pubmed_data = tmp[:keep]\n",
        "unseen_data = tmp[keep:]"
      ],
      "metadata": {
        "id": "U_31DCNrXET_"
      },
      "execution_count": null,
      "outputs": []
    },
    {
      "cell_type": "code",
      "source": [
        "len(pubmed_data)"
      ],
      "metadata": {
        "colab": {
          "base_uri": "https://localhost:8080/"
        },
        "id": "5crGtgmWbYCY",
        "outputId": "dd345b7c-af9c-4b01-9f94-93e3d2eb1ed9"
      },
      "execution_count": null,
      "outputs": [
        {
          "output_type": "execute_result",
          "data": {
            "text/plain": [
              "9989"
            ]
          },
          "metadata": {},
          "execution_count": 556
        }
      ]
    },
    {
      "cell_type": "code",
      "source": [
        "len(unseen_data)"
      ],
      "metadata": {
        "colab": {
          "base_uri": "https://localhost:8080/"
        },
        "id": "Hi8e0A0ibaEM",
        "outputId": "a1572ac1-bf2d-4f26-c8d8-3c054c2ab246"
      },
      "execution_count": null,
      "outputs": [
        {
          "output_type": "execute_result",
          "data": {
            "text/plain": [
              "10"
            ]
          },
          "metadata": {},
          "execution_count": 557
        }
      ]
    },
    {
      "cell_type": "markdown",
      "source": [
        "# Exploring the data"
      ],
      "metadata": {
        "id": "OQZV3H3AN93D"
      }
    },
    {
      "cell_type": "markdown",
      "source": [
        "What do meshroot look like?"
      ],
      "metadata": {
        "id": "C7SZD7DkPKyN"
      }
    },
    {
      "cell_type": "code",
      "source": [
        "pubmed_data['meshroot'].loc[0]"
      ],
      "metadata": {
        "colab": {
          "base_uri": "https://localhost:8080/",
          "height": 53
        },
        "id": "8MryIjDGNmdg",
        "outputId": "2cabc169-2a6d-4de0-bc4f-51506728fc4e"
      },
      "execution_count": null,
      "outputs": [
        {
          "output_type": "execute_result",
          "data": {
            "text/plain": [
              "\"['Chemicals and Drugs [D]', 'Organisms [B]', 'Analytical, Diagnostic and Therapeutic Techniques, and Equipment [E]', 'Disciplines and Occupations [H]', 'Diseases [C]']\""
            ],
            "application/vnd.google.colaboratory.intrinsic+json": {
              "type": "string"
            }
          },
          "metadata": {},
          "execution_count": 558
        }
      ]
    },
    {
      "cell_type": "code",
      "source": [
        "pubmed_data['meshroot'].loc[1]"
      ],
      "metadata": {
        "colab": {
          "base_uri": "https://localhost:8080/",
          "height": 87
        },
        "id": "GDOSECzmNs2G",
        "outputId": "b4a60bd2-9956-4e2b-ac03-8d7c0fe375f3"
      },
      "execution_count": null,
      "outputs": [
        {
          "output_type": "execute_result",
          "data": {
            "text/plain": [
              "\"['Named Groups [M]', 'Chemicals and Drugs [D]', 'Psychiatry and Psychology [F]', 'Phenomena and Processes [G]', 'Analytical, Diagnostic and Therapeutic Techniques, and Equipment [E]', 'Health Care [N]', 'Organisms [B]', 'Geographicals [Z]', 'Diseases [C]', 'Anthropology, Education, Sociology, and Social Phenomena [I]', 'Technology, Industry, and Agriculture [J]']\""
            ],
            "application/vnd.google.colaboratory.intrinsic+json": {
              "type": "string"
            }
          },
          "metadata": {},
          "execution_count": 559
        }
      ]
    },
    {
      "cell_type": "markdown",
      "source": [
        "What do abstract text look like?"
      ],
      "metadata": {
        "id": "eK0OAIwfPf6s"
      }
    },
    {
      "cell_type": "code",
      "source": [
        "pubmed_data['abstracttext'].loc[0]"
      ],
      "metadata": {
        "colab": {
          "base_uri": "https://localhost:8080/",
          "height": 157
        },
        "id": "229lxBkcPdRV",
        "outputId": "abd8a1fb-4cb1-45cc-a064-7822ba9e3454"
      },
      "execution_count": null,
      "outputs": [
        {
          "output_type": "execute_result",
          "data": {
            "text/plain": [
              "'Fifty-four paraffin embedded tissue sections from patients with dysplasia (21 cases) and with cervical cancer (33 cases) were analysed. HPV was detected and identified in two stages. Firstly, using mixed starters, chosen genomic DNA sequences were amplified; secondly the material thus obtained was analyzed by hybridization method using oligonucleotyde 31-P labelled probe. HPVs of type 6, 11, 16, 18, 33 were identified. The p-53 expression was assayed by immunohistochemical method. HPV infection was often associated with dysplasia and cervical cancer. In cervical cancer mainly HPV 16 and 18 with high oncogenic potential were found. The p-53 was present rarely, and in minute quantities. No correlation was observed between presence of p-53 and HPVs DNA.'"
            ],
            "application/vnd.google.colaboratory.intrinsic+json": {
              "type": "string"
            }
          },
          "metadata": {},
          "execution_count": 560
        }
      ]
    },
    {
      "cell_type": "code",
      "source": [
        "pubmed_data['abstracttext'].loc[1]"
      ],
      "metadata": {
        "colab": {
          "base_uri": "https://localhost:8080/",
          "height": 192
        },
        "id": "LsOtisFwPpL_",
        "outputId": "aed1d83b-1a23-463e-d4ab-14468a2248f3"
      },
      "execution_count": null,
      "outputs": [
        {
          "output_type": "execute_result",
          "data": {
            "text/plain": [
              "'The present cross-sectional study was conducted to determine the vitamin D status of pregnant Indian women and their breast-fed infants. Subjects were recruited from the Department of Obstetrics, Armed Forces Clinic and Army Hospital (Research and Referral), Delhi. A total of 541 apparently healthy women with uncomplicated, single, intra-uterine gestation reporting in any trimester were consecutively recruited. Of these 541 women, 299 (first trimester, ninety-seven; second trimester, 125; third trimester, seventy-seven) were recruited in summer (April-October) and 242 (first trimester, fifty-nine, second trimester, ninety-three; third trimester, ninety) were recruited in winter (November-March) to study seasonal variations in vitamin D status. Clinical, dietary, biochemical and hormonal evaluations for the Ca-vitamin D-parathormone axis were performed. A subset of 342 mother-infant pairs was re-evaluated 6 weeks postpartum. Mean serum 25-hydroxyvitamin D (25(OH)D) of pregnant women was 23.2 (SD 12.2) nmol/l. Hypovitaminosis D (25(OH)D < 50 nmol/l) was observed in 96.3 % of the subjects. Serum 25(OH)D levels were significantly lower in winter in the second and third trimesters, while serum intact parathormone (iPTH) and alkaline phosphatase levels were significantly higher in winter in all three trimesters. A significant negative correlation was found between serum 25(OH)D and iPTH in mothers (r - 0.367, P = 0.0001) and infants (r - 0.56, P = 0.0001). A strong positive correlation was observed between 25(OH)D levels of mother-infant pairs (r 0.779, P = 0.0001). A high prevalence of hypovitaminosis D was observed in pregnancy, lactation and infancy with no significant inter-trimester differences in serum 25(OH)D levels.'"
            ],
            "application/vnd.google.colaboratory.intrinsic+json": {
              "type": "string"
            }
          },
          "metadata": {},
          "execution_count": 561
        }
      ]
    },
    {
      "cell_type": "markdown",
      "source": [
        "How long the abstract text?"
      ],
      "metadata": {
        "id": "qycbuzF8Pv5Z"
      }
    },
    {
      "cell_type": "code",
      "source": [
        "pubmed_data.loc[:, 'abstracttext_length'] = pubmed_data['abstracttext'].apply(len)"
      ],
      "metadata": {
        "id": "69Qj8HKCP0Mx"
      },
      "execution_count": null,
      "outputs": []
    },
    {
      "cell_type": "code",
      "source": [
        "pubmed_data['abstracttext_length'].describe()"
      ],
      "metadata": {
        "colab": {
          "base_uri": "https://localhost:8080/",
          "height": 335
        },
        "id": "4gIEaj6iQFRv",
        "outputId": "27e16699-f556-4ec8-f84e-caddb0d306b1"
      },
      "execution_count": null,
      "outputs": [
        {
          "output_type": "execute_result",
          "data": {
            "text/plain": [
              "count    9989.000000\n",
              "mean     1306.862549\n",
              "std       514.265092\n",
              "min        79.000000\n",
              "25%       946.000000\n",
              "50%      1326.000000\n",
              "75%      1654.000000\n",
              "max      5470.000000\n",
              "Name: abstracttext_length, dtype: float64"
            ],
            "text/html": [
              "<div>\n",
              "<style scoped>\n",
              "    .dataframe tbody tr th:only-of-type {\n",
              "        vertical-align: middle;\n",
              "    }\n",
              "\n",
              "    .dataframe tbody tr th {\n",
              "        vertical-align: top;\n",
              "    }\n",
              "\n",
              "    .dataframe thead th {\n",
              "        text-align: right;\n",
              "    }\n",
              "</style>\n",
              "<table border=\"1\" class=\"dataframe\">\n",
              "  <thead>\n",
              "    <tr style=\"text-align: right;\">\n",
              "      <th></th>\n",
              "      <th>abstracttext_length</th>\n",
              "    </tr>\n",
              "  </thead>\n",
              "  <tbody>\n",
              "    <tr>\n",
              "      <th>count</th>\n",
              "      <td>9989.000000</td>\n",
              "    </tr>\n",
              "    <tr>\n",
              "      <th>mean</th>\n",
              "      <td>1306.862549</td>\n",
              "    </tr>\n",
              "    <tr>\n",
              "      <th>std</th>\n",
              "      <td>514.265092</td>\n",
              "    </tr>\n",
              "    <tr>\n",
              "      <th>min</th>\n",
              "      <td>79.000000</td>\n",
              "    </tr>\n",
              "    <tr>\n",
              "      <th>25%</th>\n",
              "      <td>946.000000</td>\n",
              "    </tr>\n",
              "    <tr>\n",
              "      <th>50%</th>\n",
              "      <td>1326.000000</td>\n",
              "    </tr>\n",
              "    <tr>\n",
              "      <th>75%</th>\n",
              "      <td>1654.000000</td>\n",
              "    </tr>\n",
              "    <tr>\n",
              "      <th>max</th>\n",
              "      <td>5470.000000</td>\n",
              "    </tr>\n",
              "  </tbody>\n",
              "</table>\n",
              "</div><br><label><b>dtype:</b> float64</label>"
            ]
          },
          "metadata": {},
          "execution_count": 564
        }
      ]
    },
    {
      "cell_type": "code",
      "source": [
        "pubmed_data['abstracttext_length'].plot.hist()"
      ],
      "metadata": {
        "colab": {
          "base_uri": "https://localhost:8080/",
          "height": 447
        },
        "id": "HiolCde1QQBf",
        "outputId": "05a4f44f-5c9d-47f7-db3b-f6147366ef39"
      },
      "execution_count": null,
      "outputs": [
        {
          "output_type": "execute_result",
          "data": {
            "text/plain": [
              "<Axes: ylabel='Frequency'>"
            ]
          },
          "metadata": {},
          "execution_count": 565
        },
        {
          "output_type": "display_data",
          "data": {
            "text/plain": [
              "<Figure size 640x480 with 1 Axes>"
            ],
            "image/png": "[encoded data removed]"
          },
          "metadata": {}
        }
      ]
    },
    {
      "cell_type": "code",
      "source": [
        "pubmed_data.loc[:, 'is_diseases'] = pubmed_data['meshroot'].apply(lambda x: 'Diseases [C]' in x)\n",
        "pubmed_data.head()"
      ],
      "metadata": {
        "colab": {
          "base_uri": "https://localhost:8080/",
          "height": 591
        },
        "id": "L1Tv7xe4R1Ql",
        "outputId": "8d3a9c0d-a6eb-4408-929e-2928f38e32f8"
      },
      "execution_count": null,
      "outputs": [
        {
          "output_type": "execute_result",
          "data": {
            "text/plain": [
              "                                               title  \\\n",
              "0  Expression of p53 and coexistence of HPV in pr...   \n",
              "1  Vitamin D status in pregnant Indian women acro...   \n",
              "2  [Identification of a functionally important di...   \n",
              "3  Multilayer capsules: a promising microencapsul...   \n",
              "4  Nanohydrogel with N,N'-bis(acryloyl)cystine cr...   \n",
              "\n",
              "                                        abstracttext  \\\n",
              "0  Fifty-four paraffin embedded tissue sections f...   \n",
              "1  The present cross-sectional study was conducte...   \n",
              "2  The occurrence of individual amino acids and d...   \n",
              "3  In 1980, Lim and Sun introduced a microcapsule...   \n",
              "4  Substantially improved hydrogel particles base...   \n",
              "\n",
              "                                           meshmajor      pmid  \\\n",
              "0  ['DNA Probes, HPV', 'DNA, Viral', 'Female', 'H...   8549602   \n",
              "1  ['Adult', 'Alkaline Phosphatase', 'Breast Feed...  21736816   \n",
              "2  ['Amino Acid Sequence', 'Analgesics, Opioid', ...  19060934   \n",
              "3  ['Acrylic Resins', 'Alginates', 'Animals', 'Bi...  11426874   \n",
              "4  ['Antineoplastic Agents', 'Cell Proliferation'...  28323099   \n",
              "\n",
              "                                              meshid  \\\n",
              "0  [['D13.444.600.223.555', 'D27.505.259.750.600....   \n",
              "1  [['M01.060.116'], ['D08.811.277.352.650.035'],...   \n",
              "2  [['G02.111.570.060', 'L01.453.245.667.060'], [...   \n",
              "3  [['D05.750.716.822.111', 'D25.720.716.822.111'...   \n",
              "4  [['D27.505.954.248'], ['G04.161.750', 'G07.345...   \n",
              "\n",
              "                                            meshroot  abstracttext_length  \\\n",
              "0  ['Chemicals and Drugs [D]', 'Organisms [B]', '...                  760   \n",
              "1  ['Named Groups [M]', 'Chemicals and Drugs [D]'...                 1747   \n",
              "2  ['Phenomena and Processes [G]', 'Information S...                  693   \n",
              "3  ['Chemicals and Drugs [D]', 'Technology, Indus...                 1870   \n",
              "4  ['Chemicals and Drugs [D]', 'Phenomena and Pro...                 1617   \n",
              "\n",
              "   is_diseases  \n",
              "0         True  \n",
              "1         True  \n",
              "2        False  \n",
              "3         True  \n",
              "4        False  "
            ],
            "text/html": [
              "\n",
              "  <div id=\"df-3c27f93f-ec90-4d71-aa79-8f86d1aa6181\" class=\"colab-df-container\">\n",
              "    <div>\n",
              "<style scoped>\n",
              "    .dataframe tbody tr th:only-of-type {\n",
              "        vertical-align: middle;\n",
              "    }\n",
              "\n",
              "    .dataframe tbody tr th {\n",
              "        vertical-align: top;\n",
              "    }\n",
              "\n",
              "    .dataframe thead th {\n",
              "        text-align: right;\n",
              "    }\n",
              "</style>\n",
              "<table border=\"1\" class=\"dataframe\">\n",
              "  <thead>\n",
              "    <tr style=\"text-align: right;\">\n",
              "      <th></th>\n",
              "      <th>title</th>\n",
              "      <th>abstracttext</th>\n",
              "      <th>meshmajor</th>\n",
              "      <th>pmid</th>\n",
              "      <th>meshid</th>\n",
              "      <th>meshroot</th>\n",
              "      <th>abstracttext_length</th>\n",
              "      <th>is_diseases</th>\n",
              "    </tr>\n",
              "  </thead>\n",
              "  <tbody>\n",
              "    <tr>\n",
              "      <th>0</th>\n",
              "      <td>Expression of p53 and coexistence of HPV in pr...</td>\n",
              "      <td>Fifty-four paraffin embedded tissue sections f...</td>\n",
              "      <td>['DNA Probes, HPV', 'DNA, Viral', 'Female', 'H...</td>\n",
              "      <td>8549602</td>\n",
              "      <td>[['D13.444.600.223.555', 'D27.505.259.750.600....</td>\n",
              "      <td>['Chemicals and Drugs [D]', 'Organisms [B]', '...</td>\n",
              "      <td>760</td>\n",
              "      <td>True</td>\n",
              "    </tr>\n",
              "    <tr>\n",
              "      <th>1</th>\n",
              "      <td>Vitamin D status in pregnant Indian women acro...</td>\n",
              "      <td>The present cross-sectional study was conducte...</td>\n",
              "      <td>['Adult', 'Alkaline Phosphatase', 'Breast Feed...</td>\n",
              "      <td>21736816</td>\n",
              "      <td>[['M01.060.116'], ['D08.811.277.352.650.035'],...</td>\n",
              "      <td>['Named Groups [M]', 'Chemicals and Drugs [D]'...</td>\n",
              "      <td>1747</td>\n",
              "      <td>True</td>\n",
              "    </tr>\n",
              "    <tr>\n",
              "      <th>2</th>\n",
              "      <td>[Identification of a functionally important di...</td>\n",
              "      <td>The occurrence of individual amino acids and d...</td>\n",
              "      <td>['Amino Acid Sequence', 'Analgesics, Opioid', ...</td>\n",
              "      <td>19060934</td>\n",
              "      <td>[['G02.111.570.060', 'L01.453.245.667.060'], [...</td>\n",
              "      <td>['Phenomena and Processes [G]', 'Information S...</td>\n",
              "      <td>693</td>\n",
              "      <td>False</td>\n",
              "    </tr>\n",
              "    <tr>\n",
              "      <th>3</th>\n",
              "      <td>Multilayer capsules: a promising microencapsul...</td>\n",
              "      <td>In 1980, Lim and Sun introduced a microcapsule...</td>\n",
              "      <td>['Acrylic Resins', 'Alginates', 'Animals', 'Bi...</td>\n",
              "      <td>11426874</td>\n",
              "      <td>[['D05.750.716.822.111', 'D25.720.716.822.111'...</td>\n",
              "      <td>['Chemicals and Drugs [D]', 'Technology, Indus...</td>\n",
              "      <td>1870</td>\n",
              "      <td>True</td>\n",
              "    </tr>\n",
              "    <tr>\n",
              "      <th>4</th>\n",
              "      <td>Nanohydrogel with N,N'-bis(acryloyl)cystine cr...</td>\n",
              "      <td>Substantially improved hydrogel particles base...</td>\n",
              "      <td>['Antineoplastic Agents', 'Cell Proliferation'...</td>\n",
              "      <td>28323099</td>\n",
              "      <td>[['D27.505.954.248'], ['G04.161.750', 'G07.345...</td>\n",
              "      <td>['Chemicals and Drugs [D]', 'Phenomena and Pro...</td>\n",
              "      <td>1617</td>\n",
              "      <td>False</td>\n",
              "    </tr>\n",
              "  </tbody>\n",
              "</table>\n",
              "</div>\n",
              "    <div class=\"colab-df-buttons\">\n",
              "\n",
              "  <div class=\"colab-df-container\">\n",
              "    <button class=\"colab-df-convert\" onclick=\"convertToInteractive('df-3c27f93f-ec90-4d71-aa79-8f86d1aa6181')\"\n",
              "            title=\"Convert this dataframe to an interactive table.\"\n",
              "            style=\"display:none;\">\n",
              "\n",
              "  <svg xmlns=\"http://www.w3.org/2000/svg\" height=\"24px\" viewBox=\"0 -960 960 960\">\n",
              "    <path d=\"M120-120v-720h720v720H120Zm60-500h600v-160H180v160Zm220 220h160v-160H400v160Zm0 220h160v-160H400v160ZM180-400h160v-160H180v160Zm440 0h160v-160H620v160ZM180-180h160v-160H180v160Zm440 0h160v-160H620v160Z\"/>\n",
              "  </svg>\n",
              "    </button>\n",
              "\n",
              "  <style>\n",
              "    .colab-df-container {\n",
              "      display:flex;\n",
              "      gap: 12px;\n",
              "    }\n",
              "\n",
              "    .colab-df-convert {\n",
              "      background-color: #E8F0FE;\n",
              "      border: none;\n",
              "      border-radius: 50%;\n",
              "      cursor: pointer;\n",
              "      display: none;\n",
              "      fill: #1967D2;\n",
              "      height: 32px;\n",
              "      padding: 0 0 0 0;\n",
              "      width: 32px;\n",
              "    }\n",
              "\n",
              "    .colab-df-convert:hover {\n",
              "      background-color: #E2EBFA;\n",
              "      box-shadow: 0px 1px 2px rgba(60, 64, 67, 0.3), 0px 1px 3px 1px rgba(60, 64, 67, 0.15);\n",
              "      fill: #174EA6;\n",
              "    }\n",
              "\n",
              "    .colab-df-buttons div {\n",
              "      margin-bottom: 4px;\n",
              "    }\n",
              "\n",
              "    [theme=dark] .colab-df-convert {\n",
              "      background-color: #3B4455;\n",
              "      fill: #D2E3FC;\n",
              "    }\n",
              "\n",
              "    [theme=dark] .colab-df-convert:hover {\n",
              "      background-color: #434B5C;\n",
              "      box-shadow: 0px 1px 3px 1px rgba(0, 0, 0, 0.15);\n",
              "      filter: drop-shadow(0px 1px 2px rgba(0, 0, 0, 0.3));\n",
              "      fill: #FFFFFF;\n",
              "    }\n",
              "  </style>\n",
              "\n",
              "    <script>\n",
              "      const buttonEl =\n",
              "        document.querySelector('#df-3c27f93f-ec90-4d71-aa79-8f86d1aa6181 button.colab-df-convert');\n",
              "      buttonEl.style.display =\n",
              "        google.colab.kernel.accessAllowed ? 'block' : 'none';\n",
              "\n",
              "      async function convertToInteractive(key) {\n",
              "        const element = document.querySelector('#df-3c27f93f-ec90-4d71-aa79-8f86d1aa6181');\n",
              "        const dataTable =\n",
              "          await google.colab.kernel.invokeFunction('convertToInteractive',\n",
              "                                                    [key], {});\n",
              "        if (!dataTable) return;\n",
              "\n",
              "        const docLinkHtml = 'Like what you see? Visit the ' +\n",
              "          '<a target=\"_blank\" href=https://colab.research.google.com/notebooks/data_table.ipynb>data table notebook</a>'\n",
              "          + ' to learn more about interactive tables.';\n",
              "        element.innerHTML = '';\n",
              "        dataTable['output_type'] = 'display_data';\n",
              "        await google.colab.output.renderOutput(dataTable, element);\n",
              "        const docLink = document.createElement('div');\n",
              "        docLink.innerHTML = docLinkHtml;\n",
              "        element.appendChild(docLink);\n",
              "      }\n",
              "    </script>\n",
              "  </div>\n",
              "\n",
              "\n",
              "<div id=\"df-e10a6971-4351-4f26-98a5-dafdc2c6e203\">\n",
              "  <button class=\"colab-df-quickchart\" onclick=\"quickchart('df-e10a6971-4351-4f26-98a5-dafdc2c6e203')\"\n",
              "            title=\"Suggest charts\"\n",
              "            style=\"display:none;\">\n",
              "\n",
              "<svg xmlns=\"http://www.w3.org/2000/svg\" height=\"24px\"viewBox=\"0 0 24 24\"\n",
              "     width=\"24px\">\n",
              "    <g>\n",
              "        <path d=\"M19 3H5c-1.1 0-2 .9-2 2v14c0 1.1.9 2 2 2h14c1.1 0 2-.9 2-2V5c0-1.1-.9-2-2-2zM9 17H7v-7h2v7zm4 0h-2V7h2v10zm4 0h-2v-4h2v4z\"/>\n",
              "    </g>\n",
              "</svg>\n",
              "  </button>\n",
              "\n",
              "<style>\n",
              "  .colab-df-quickchart {\n",
              "      --bg-color: #E8F0FE;\n",
              "      --fill-color: #1967D2;\n",
              "      --hover-bg-color: #E2EBFA;\n",
              "      --hover-fill-color: #174EA6;\n",
              "      --disabled-fill-color: #AAA;\n",
              "      --disabled-bg-color: #DDD;\n",
              "  }\n",
              "\n",
              "  [theme=dark] .colab-df-quickchart {\n",
              "      --bg-color: #3B4455;\n",
              "      --fill-color: #D2E3FC;\n",
              "      --hover-bg-color: #434B5C;\n",
              "      --hover-fill-color: #FFFFFF;\n",
              "      --disabled-bg-color: #3B4455;\n",
              "      --disabled-fill-color: #666;\n",
              "  }\n",
              "\n",
              "  .colab-df-quickchart {\n",
              "    background-color: var(--bg-color);\n",
              "    border: none;\n",
              "    border-radius: 50%;\n",
              "    cursor: pointer;\n",
              "    display: none;\n",
              "    fill: var(--fill-color);\n",
              "    height: 32px;\n",
              "    padding: 0;\n",
              "    width: 32px;\n",
              "  }\n",
              "\n",
              "  .colab-df-quickchart:hover {\n",
              "    background-color: var(--hover-bg-color);\n",
              "    box-shadow: 0 1px 2px rgba(60, 64, 67, 0.3), 0 1px 3px 1px rgba(60, 64, 67, 0.15);\n",
              "    fill: var(--button-hover-fill-color);\n",
              "  }\n",
              "\n",
              "  .colab-df-quickchart-complete:disabled,\n",
              "  .colab-df-quickchart-complete:disabled:hover {\n",
              "    background-color: var(--disabled-bg-color);\n",
              "    fill: var(--disabled-fill-color);\n",
              "    box-shadow: none;\n",
              "  }\n",
              "\n",
              "  .colab-df-spinner {\n",
              "    border: 2px solid var(--fill-color);\n",
              "    border-color: transparent;\n",
              "    border-bottom-color: var(--fill-color);\n",
              "    animation:\n",
              "      spin 1s steps(1) infinite;\n",
              "  }\n",
              "\n",
              "  @keyframes spin {\n",
              "    0% {\n",
              "      border-color: transparent;\n",
              "      border-bottom-color: var(--fill-color);\n",
              "      border-left-color: var(--fill-color);\n",
              "    }\n",
              "    20% {\n",
              "      border-color: transparent;\n",
              "      border-left-color: var(--fill-color);\n",
              "      border-top-color: var(--fill-color);\n",
              "    }\n",
              "    30% {\n",
              "      border-color: transparent;\n",
              "      border-left-color: var(--fill-color);\n",
              "      border-top-color: var(--fill-color);\n",
              "      border-right-color: var(--fill-color);\n",
              "    }\n",
              "    40% {\n",
              "      border-color: transparent;\n",
              "      border-right-color: var(--fill-color);\n",
              "      border-top-color: var(--fill-color);\n",
              "    }\n",
              "    60% {\n",
              "      border-color: transparent;\n",
              "      border-right-color: var(--fill-color);\n",
              "    }\n",
              "    80% {\n",
              "      border-color: transparent;\n",
              "      border-right-color: var(--fill-color);\n",
              "      border-bottom-color: var(--fill-color);\n",
              "    }\n",
              "    90% {\n",
              "      border-color: transparent;\n",
              "      border-bottom-color: var(--fill-color);\n",
              "    }\n",
              "  }\n",
              "</style>\n",
              "\n",
              "  <script>\n",
              "    async function quickchart(key) {\n",
              "      const quickchartButtonEl =\n",
              "        document.querySelector('#' + key + ' button');\n",
              "      quickchartButtonEl.disabled = true;  // To prevent multiple clicks.\n",
              "      quickchartButtonEl.classList.add('colab-df-spinner');\n",
              "      try {\n",
              "        const charts = await google.colab.kernel.invokeFunction(\n",
              "            'suggestCharts', [key], {});\n",
              "      } catch (error) {\n",
              "        console.error('Error during call to suggestCharts:', error);\n",
              "      }\n",
              "      quickchartButtonEl.classList.remove('colab-df-spinner');\n",
              "      quickchartButtonEl.classList.add('colab-df-quickchart-complete');\n",
              "    }\n",
              "    (() => {\n",
              "      let quickchartButtonEl =\n",
              "        document.querySelector('#df-e10a6971-4351-4f26-98a5-dafdc2c6e203 button');\n",
              "      quickchartButtonEl.style.display =\n",
              "        google.colab.kernel.accessAllowed ? 'block' : 'none';\n",
              "    })();\n",
              "  </script>\n",
              "</div>\n",
              "\n",
              "    </div>\n",
              "  </div>\n"
            ],
            "application/vnd.google.colaboratory.intrinsic+json": {
              "type": "dataframe",
              "variable_name": "pubmed_data",
              "summary": "{\n  \"name\": \"pubmed_data\",\n  \"rows\": 9989,\n  \"fields\": [\n    {\n      \"column\": \"title\",\n      \"properties\": {\n        \"dtype\": \"string\",\n        \"num_unique_values\": 9986,\n        \"samples\": [\n          \"Analysis of production, purification, and cytolytic potential of bi-specific antibodies reactive with ovarian-carcinoma-associated antigens and the T-cell antigen CD3.\",\n          \"Development of a protective immunity against Ostertagia leptospicularis in trickle-infected sheep and parallel changes of serum gastrin, pepsinogen and antibody levels.\",\n          \"High-resolution structure prediction of \\u00e2\"\n        ],\n        \"semantic_type\": \"\",\n        \"description\": \"\"\n      }\n    },\n    {\n      \"column\": \"abstracttext\",\n      \"properties\": {\n        \"dtype\": \"string\",\n        \"num_unique_values\": 9986,\n        \"samples\": [\n          \"OV-TL3 and MOv 18 MAbs, due to their restricted specificity, have been successfully used to visualize ovarian cancer in patients and might therefore be used to develop therapies for ovarian cancer. The bi-specific MAbs alpha T3/OC2 and alpha OC/TR (both being combinations of MOv18 and alpha CD3) have been shown to lyse ovarian tumor cells in vitro. To evaluate the relative merits of MOv18/CD3 and OV-TL 3/CD3, the present study was undertaken in which the bi-specific MAbs alpha T3/OC2 and alpha OC/TR, and a newly developed bi-specific MAb, OV-TL 3/CD3, were highly purified and compared for specificity, stability, purification and cytolytic potential. The dual specificity of the hybrid-hybridoma supernatants was analyzed by immunohistochemistry, and by testing bi-specific MAb-mediated cytotoxicity against relevant target cells in the presence of effector cells. Stability testing of bi-specific MAb-producing hybridomas showed that, after sub-cloning, clones stably produced up to 40% bi-specific MAb even after prolonged in vitro culture. The purification of the bi-specific fractions was performed with protein A and by ion-exchange high-pressure liquid chromatography, depending on the sub-class combination of the bi-specific MAb. The purified bi-specific MAbs were tested for their ability to mediate target-cell lysis with the use of cytotoxic T-cell clones and activated peripheral-blood lymphocytes. The purified alpha T3/OC2, alpha OC/TR, and OV-TL3/CD3 were all able to mediate highly specific lysis of various ovarian-carcinoma cell lines. No correlation was found between the level of antigen expression and bi-specific MAb-mediated cytolysis.\",\n          \"Nine lambs, approximately 9 months of age were allocated to three groups (A, B, C), with three animals in each. Sheep in Groups A and B were trickle-infected with doses of 1000 third-stage larvae (L3) of Ostertagia leptospicularis (five times per week) over periods of 7.5 and 10.5 weeks, respectively, and were subsequently treated with fenbendazole (7.5 mg/kg). Approximately 3 weeks after anthelmintic treatment, all sheep were challenged with a single dose of 100,000 L3, whereas sheep of Group C received the same dose as a primary infection. Sheep of Groups A and B were almost completely refractory against the challenge infection, as indicated by negative faecal egg counts and adult worm burdens. A relatively high infection level was present in the sheep of Group C. The results indicate that a comparatively short immunization period of 7.5 weeks is sufficient to protect lambs against subsequent larval challenge. During immunization, the pepsinogen-, gastrin- and IgA-responses were similar in the individual sheep. In contrast to parasite-specific IgG1 and IgG2 levels, IgA decreased rapidly after cessation of trickle infection and parallel anthelmintic treatment, and may therefore indicate current exposure to parasite antigen. After challenge, the majority of the immunized sheep exhibited immediate and short-term responses of pepsinogen, gastrin and IgA in the serum. The time course and the level of each of these responses were very similar in the individual sheep, suggesting that the release of pepsinogen, gastrin and IgA into the circulation was influenced by related mechanisms.\",\n          \"[Formula: see text]-Barrel membrane proteins ([Formula: see text]MPs) play important roles, but knowledge of their structures is limited. We have developed a method to predict their 3D structures. We predict strand registers and construct transmembrane (TM) domains of [Formula: see text]MPs accurately, including proteins for which no prediction has been attempted before. Our method also accurately predicts structures from protein families with a limited number of sequences and proteins with novel folds. An average main-chain rmsd of 3.48 ? is achieved between predicted and experimentally resolved structures of TM domains, which is a significant improvement ([Formula: see text]3 ?) over a recent study. For [Formula: see text]MPs with NMR structures, the deviation between predictions and experimentally solved structures is similar to the difference among the NMR structures, indicating excellent prediction accuracy. Moreover, we can now accurately model the extended [Formula: see text]-barrels and loops in non-TM domains, increasing the overall coverage of structure prediction by [Formula: see text]%. Our method is general and can be applied to genome-wide structural prediction of [Formula: see text]MPs.\"\n        ],\n        \"semantic_type\": \"\",\n        \"description\": \"\"\n      }\n    },\n    {\n      \"column\": \"meshmajor\",\n      \"properties\": {\n        \"dtype\": \"string\",\n        \"num_unique_values\": 9985,\n        \"samples\": [\n          \"['Amino Acid Sequence', 'Binding Sites', 'Biological Transport, Active', 'Carboxypeptidases', 'Endosomal Sorting Complexes Required for Transport', 'Genes, Fungal', 'Green Fluorescent Proteins', 'Membrane Proteins', 'Microscopy, Fluorescence', 'Molecular Sequence Data', 'Protein Structure, Tertiary', 'Recombinant Fusion Proteins', 'Saccharomyces cerevisiae', 'Saccharomyces cerevisiae Proteins', 'Sequence Deletion', 'Ubiquitin', 'Ubiquitin-Protein Ligase Complexes', 'Vacuoles']\",\n          \"['Electromyography', 'Female', 'Humans', 'Male', 'Muscle Stretching Exercises', 'Neck', 'Posture', 'Prone Position', 'Range of Motion, Articular', 'Superficial Back Muscles', 'Young Adult']\",\n          \"['Bayes Theorem', 'Forensic Medicine', 'Humans', 'Likelihood Functions', 'Male', 'Microsatellite Repeats', 'Paternity', 'Probability']\"\n        ],\n        \"semantic_type\": \"\",\n        \"description\": \"\"\n      }\n    },\n    {\n      \"column\": \"pmid\",\n      \"properties\": {\n        \"dtype\": \"number\",\n        \"std\": 9374446,\n        \"min\": 506,\n        \"max\": 33211903,\n        \"num_unique_values\": 9986,\n        \"samples\": [\n          8344744,\n          10204410,\n          29378944\n        ],\n        \"semantic_type\": \"\",\n        \"description\": \"\"\n      }\n    },\n    {\n      \"column\": \"meshid\",\n      \"properties\": {\n        \"dtype\": \"string\",\n        \"num_unique_values\": 9905,\n        \"samples\": [\n          \"[['D02.078.370.200', 'D03.383.129.308.130'], ['E05.318.372.250.250', 'N05.715.360.330.250.250', 'N06.850.520.450.250.250'], ['E05.318.370.300', 'E05.581.500.300', 'N05.715.360.325.320', 'N06.850.520.445.300'], ['C06.405.469.275.800.348', 'C06.405.748.586.349'], ['D02.078.370'], ['B01.050.150.900.649.313.988.400.112.400.400'], ['D26.660', 'E02.785'], ['G01.910.857'], ['G16.762.891']]\",\n          \"[['Z01.058.290.175.230'], ['M01.150'], ['Z01.058.290.175.300'], ['N04.590.374.350', 'N05.300.430'], ['N03.349.380.420', 'N05.300.450'], ['B01.050.150.900.649.313.988.400.112.400.400'], ['H01.770.644.241.850'], ['E07.796'], ['M01.060.116.815']]\",\n          \"[['M01.060.116'], ['N01.824.196'], ['M01.189'], ['M01.686.508.400'], ['I01.240.425.675', 'N01.224.425.437', 'N06.850.505.400.425.675'], ['B01.050.150.900.649.313.988.400.112.400.400'], ['M01.060.703.520'], ['M01.060.703.520.460.560'], ['F01.829.263.500.320.200', 'I01.880.853.150.500.340.270', 'M01.620.630'], ['Z01.107.567.875.350.530.530', 'Z01.107.567.875.500.530.530', 'Z01.433.741'], ['Z01.542.248.679'], ['G08.686.784.769'], ['C13.703.420.491.500'], ['Z01.542.248.517'], ['E05.318.740.600.800', 'G17.680.750', 'N05.715.360.750.625.700', 'N06.850.520.830.600.800'], ['Z01.252.122.500', 'Z01.542.248.775'], ['Z01.542.248.960', 'Z01.542.931.960', 'Z01.586.950.960'], ['M01.060.116.815']]\"\n        ],\n        \"semantic_type\": \"\",\n        \"description\": \"\"\n      }\n    },\n    {\n      \"column\": \"meshroot\",\n      \"properties\": {\n        \"dtype\": \"string\",\n        \"num_unique_values\": 7028,\n        \"samples\": [\n          \"['Named Groups [M]', 'Anatomy [A]', 'Phenomena and Processes [G]', 'Analytical, Diagnostic and Therapeutic Techniques, and Equipment [E]', 'Disciplines and Occupations [H]', 'Organisms [B]', 'Diseases [C]', 'Health Care [N]']\",\n          \"['Analytical, Diagnostic and Therapeutic Techniques, and Equipment [E]', 'Phenomena and Processes [G]', 'Chemicals and Drugs [D]', 'Organisms [B]', 'Anatomy [A]', 'Technology, Industry, and Agriculture [J]']\",\n          \"['Chemicals and Drugs [D]', 'Anatomy [A]', 'Organisms [B]', 'Diseases [C]', 'Analytical, Diagnostic and Therapeutic Techniques, and Equipment [E]', 'Phenomena and Processes [G]', 'Health Care [N]']\"\n        ],\n        \"semantic_type\": \"\",\n        \"description\": \"\"\n      }\n    },\n    {\n      \"column\": \"abstracttext_length\",\n      \"properties\": {\n        \"dtype\": \"number\",\n        \"std\": 514,\n        \"min\": 79,\n        \"max\": 5470,\n        \"num_unique_values\": 2220,\n        \"samples\": [\n          1513,\n          1172,\n          2116\n        ],\n        \"semantic_type\": \"\",\n        \"description\": \"\"\n      }\n    },\n    {\n      \"column\": \"is_diseases\",\n      \"properties\": {\n        \"dtype\": \"boolean\",\n        \"num_unique_values\": 2,\n        \"samples\": [\n          false,\n          true\n        ],\n        \"semantic_type\": \"\",\n        \"description\": \"\"\n      }\n    }\n  ]\n}"
            }
          },
          "metadata": {},
          "execution_count": 567
        }
      ]
    },
    {
      "cell_type": "markdown",
      "source": [
        "What are the most frequent words in the abstract text?"
      ],
      "metadata": {
        "id": "iOoY2DWPSPp7"
      }
    },
    {
      "cell_type": "code",
      "source": [
        "text = list(pubmed_data[pubmed_data[\"is_diseases\"] == True].abstracttext.values)\n",
        "\n",
        "wordcloud = WordCloud(stopwords=STOPWORDS).generate(str(text))\n",
        "\n",
        "plt.imshow(wordcloud)\n",
        "plt.axis(\"off\")\n",
        "plt.show()"
      ],
      "metadata": {
        "colab": {
          "base_uri": "https://localhost:8080/",
          "height": 285
        },
        "id": "UYqpgEsfSSUr",
        "outputId": "19c82482-b7f1-4eb5-974a-f836dbd5c1c8"
      },
      "execution_count": null,
      "outputs": [
        {
          "output_type": "display_data",
          "data": {
            "text/plain": [
              "<Figure size 640x480 with 1 Axes>"
            ],
            "image/png": "[encoded data removed]"
          },
          "metadata": {}
        }
      ]
    },
    {
      "cell_type": "code",
      "source": [
        "text = list(pubmed_data[pubmed_data[\"is_diseases\"] == True].abstracttext.values)\n",
        "text[:3]"
      ],
      "metadata": {
        "colab": {
          "base_uri": "https://localhost:8080/"
        },
        "id": "6_SFL58cSo6s",
        "outputId": "0d3f4c71-3d03-4b88-88cd-510cefb099e1"
      },
      "execution_count": null,
      "outputs": [
        {
          "output_type": "execute_result",
          "data": {
            "text/plain": [
              "['Fifty-four paraffin embedded tissue sections from patients with dysplasia (21 cases) and with cervical cancer (33 cases) were analysed. HPV was detected and identified in two stages. Firstly, using mixed starters, chosen genomic DNA sequences were amplified; secondly the material thus obtained was analyzed by hybridization method using oligonucleotyde 31-P labelled probe. HPVs of type 6, 11, 16, 18, 33 were identified. The p-53 expression was assayed by immunohistochemical method. HPV infection was often associated with dysplasia and cervical cancer. In cervical cancer mainly HPV 16 and 18 with high oncogenic potential were found. The p-53 was present rarely, and in minute quantities. No correlation was observed between presence of p-53 and HPVs DNA.',\n",
              " 'The present cross-sectional study was conducted to determine the vitamin D status of pregnant Indian women and their breast-fed infants. Subjects were recruited from the Department of Obstetrics, Armed Forces Clinic and Army Hospital (Research and Referral), Delhi. A total of 541 apparently healthy women with uncomplicated, single, intra-uterine gestation reporting in any trimester were consecutively recruited. Of these 541 women, 299 (first trimester, ninety-seven; second trimester, 125; third trimester, seventy-seven) were recruited in summer (April-October) and 242 (first trimester, fifty-nine, second trimester, ninety-three; third trimester, ninety) were recruited in winter (November-March) to study seasonal variations in vitamin D status. Clinical, dietary, biochemical and hormonal evaluations for the Ca-vitamin D-parathormone axis were performed. A subset of 342 mother-infant pairs was re-evaluated 6 weeks postpartum. Mean serum 25-hydroxyvitamin D (25(OH)D) of pregnant women was 23.2 (SD 12.2) nmol/l. Hypovitaminosis D (25(OH)D < 50 nmol/l) was observed in 96.3 % of the subjects. Serum 25(OH)D levels were significantly lower in winter in the second and third trimesters, while serum intact parathormone (iPTH) and alkaline phosphatase levels were significantly higher in winter in all three trimesters. A significant negative correlation was found between serum 25(OH)D and iPTH in mothers (r - 0.367, P = 0.0001) and infants (r - 0.56, P = 0.0001). A strong positive correlation was observed between 25(OH)D levels of mother-infant pairs (r 0.779, P = 0.0001). A high prevalence of hypovitaminosis D was observed in pregnancy, lactation and infancy with no significant inter-trimester differences in serum 25(OH)D levels.',\n",
              " 'In 1980, Lim and Sun introduced a microcapsule coated with an alginate/polylysine complex for encapsulation of pancreatic islets. Characteristic to this type of capsule is, that it consists of a plain membrane which is formed during a single procedural step. With such a simple process it is difficult to obtain instantly a membrane optimized with respect to all the properties requested for islet transplantation. To overcome these difficulties, it is recommended to build up the membrane in several consecutive steps, each optimized for a certain property. In this study, we have analysed such a multilayer microcapsule for the encapsulation of pancreatic islets. Therefore, empty and islet containing alginate beads were coated with alternating layers of polyethyleneimine, polyacrylacid or carboxymethylcellulose and alginate. By scanning electron microscopy the thickness of the covering multilayer-membrane was estimated to be less than 800 nm by comparison with an apparatus scale. Ellipsometric measurements showed that the membrane thickness is in the range of 145 nm. Neither the encapsulation procedure, nor the membrane-forming step did impede the stimulatory response of the islets. The encapsulation even lead to a significantly better stimulatory response of the encapsulated islets during week three and five of cell culture. Furthermore, the multilayer-membrane did not deteriorate the biocompatibility of the transplanted microcapsules, allowing an easy tuning of the molecular cut-off and the mechanical stability depending on the polycation-polyanion combination used. The multilayer membrane capsule has obvious advantages compared to a one-step encapsulation procedure. These beads guarantee a high biocompatibility, a precisely adjusted cut-off, an optimal insulin-response and high mechanical stability although the membrane is only 145 nm thick.']"
            ]
          },
          "metadata": {},
          "execution_count": 570
        }
      ]
    },
    {
      "cell_type": "markdown",
      "source": [
        "# Cleaning & Preprocessing the data"
      ],
      "metadata": {
        "id": "DRpc533ES6Ly"
      }
    },
    {
      "cell_type": "code",
      "source": [
        "pubmed_data = pubmed_data.loc[pubmed_data['abstracttext_length'] > 200]"
      ],
      "metadata": {
        "id": "vfnLJh9cS9O6"
      },
      "execution_count": null,
      "outputs": []
    },
    {
      "cell_type": "code",
      "source": [
        "pubmed_data = pubmed_data.loc[pubmed_data['abstracttext_length'] < 2000]"
      ],
      "metadata": {
        "id": "w_oiqd8yTJPD"
      },
      "execution_count": null,
      "outputs": []
    },
    {
      "cell_type": "code",
      "source": [
        "pubmed_data['abstracttext_length'].describe()"
      ],
      "metadata": {
        "colab": {
          "base_uri": "https://localhost:8080/",
          "height": 335
        },
        "id": "Ik8xoJwkTgT4",
        "outputId": "fbb51f3a-beb6-467b-a29b-97f550e2d691"
      },
      "execution_count": null,
      "outputs": [
        {
          "output_type": "execute_result",
          "data": {
            "text/plain": [
              "count    9197.000000\n",
              "mean     1229.148309\n",
              "std       428.195715\n",
              "min       201.000000\n",
              "25%       919.000000\n",
              "50%      1273.000000\n",
              "75%      1581.000000\n",
              "max      1999.000000\n",
              "Name: abstracttext_length, dtype: float64"
            ],
            "text/html": [
              "<div>\n",
              "<style scoped>\n",
              "    .dataframe tbody tr th:only-of-type {\n",
              "        vertical-align: middle;\n",
              "    }\n",
              "\n",
              "    .dataframe tbody tr th {\n",
              "        vertical-align: top;\n",
              "    }\n",
              "\n",
              "    .dataframe thead th {\n",
              "        text-align: right;\n",
              "    }\n",
              "</style>\n",
              "<table border=\"1\" class=\"dataframe\">\n",
              "  <thead>\n",
              "    <tr style=\"text-align: right;\">\n",
              "      <th></th>\n",
              "      <th>abstracttext_length</th>\n",
              "    </tr>\n",
              "  </thead>\n",
              "  <tbody>\n",
              "    <tr>\n",
              "      <th>count</th>\n",
              "      <td>9197.000000</td>\n",
              "    </tr>\n",
              "    <tr>\n",
              "      <th>mean</th>\n",
              "      <td>1229.148309</td>\n",
              "    </tr>\n",
              "    <tr>\n",
              "      <th>std</th>\n",
              "      <td>428.195715</td>\n",
              "    </tr>\n",
              "    <tr>\n",
              "      <th>min</th>\n",
              "      <td>201.000000</td>\n",
              "    </tr>\n",
              "    <tr>\n",
              "      <th>25%</th>\n",
              "      <td>919.000000</td>\n",
              "    </tr>\n",
              "    <tr>\n",
              "      <th>50%</th>\n",
              "      <td>1273.000000</td>\n",
              "    </tr>\n",
              "    <tr>\n",
              "      <th>75%</th>\n",
              "      <td>1581.000000</td>\n",
              "    </tr>\n",
              "    <tr>\n",
              "      <th>max</th>\n",
              "      <td>1999.000000</td>\n",
              "    </tr>\n",
              "  </tbody>\n",
              "</table>\n",
              "</div><br><label><b>dtype:</b> float64</label>"
            ]
          },
          "metadata": {},
          "execution_count": 573
        }
      ]
    },
    {
      "cell_type": "code",
      "source": [
        "pubmed_data['abstracttext_length'].plot.hist()"
      ],
      "metadata": {
        "colab": {
          "base_uri": "https://localhost:8080/",
          "height": 447
        },
        "id": "m_NWN4JgTioR",
        "outputId": "690fb1ab-91a2-4443-b6f9-a492a7a5d3d7"
      },
      "execution_count": null,
      "outputs": [
        {
          "output_type": "execute_result",
          "data": {
            "text/plain": [
              "<Axes: ylabel='Frequency'>"
            ]
          },
          "metadata": {},
          "execution_count": 574
        },
        {
          "output_type": "display_data",
          "data": {
            "text/plain": [
              "<Figure size 640x480 with 1 Axes>"
            ],
            "image/png": "[encoded data removed]"
          },
          "metadata": {}
        }
      ]
    },
    {
      "cell_type": "markdown",
      "source": [
        "Remove punctuation"
      ],
      "metadata": {
        "id": "gL8AtBuxVZDO"
      }
    },
    {
      "cell_type": "code",
      "source": [
        "exclude = set(string.punctuation)\n",
        "def remove_punctoation(row):\n",
        "  row.abstracttext = ''.join(ch for ch in row.abstracttext if ch not in exclude)\n",
        "  return row"
      ],
      "metadata": {
        "id": "SVcWK43qVcTV"
      },
      "execution_count": null,
      "outputs": []
    },
    {
      "cell_type": "code",
      "source": [
        "pubmed_data = pubmed_data.apply(remove_punctoation, axis=1)"
      ],
      "metadata": {
        "id": "HwgEsZ75VjoN"
      },
      "execution_count": null,
      "outputs": []
    },
    {
      "cell_type": "code",
      "source": [
        "pubmed_data.head()"
      ],
      "metadata": {
        "colab": {
          "base_uri": "https://localhost:8080/",
          "height": 591
        },
        "id": "eCERgIDZVoEg",
        "outputId": "79ec040e-fe76-404e-9826-e148c44bf0e7"
      },
      "execution_count": null,
      "outputs": [
        {
          "output_type": "execute_result",
          "data": {
            "text/plain": [
              "                                               title  \\\n",
              "0  Expression of p53 and coexistence of HPV in pr...   \n",
              "1  Vitamin D status in pregnant Indian women acro...   \n",
              "2  [Identification of a functionally important di...   \n",
              "3  Multilayer capsules: a promising microencapsul...   \n",
              "4  Nanohydrogel with N,N'-bis(acryloyl)cystine cr...   \n",
              "\n",
              "                                        abstracttext  \\\n",
              "0  Fiftyfour paraffin embedded tissue sections fr...   \n",
              "1  The present crosssectional study was conducted...   \n",
              "2  The occurrence of individual amino acids and d...   \n",
              "3  In 1980 Lim and Sun introduced a microcapsule ...   \n",
              "4  Substantially improved hydrogel particles base...   \n",
              "\n",
              "                                           meshmajor      pmid  \\\n",
              "0  ['DNA Probes, HPV', 'DNA, Viral', 'Female', 'H...   8549602   \n",
              "1  ['Adult', 'Alkaline Phosphatase', 'Breast Feed...  21736816   \n",
              "2  ['Amino Acid Sequence', 'Analgesics, Opioid', ...  19060934   \n",
              "3  ['Acrylic Resins', 'Alginates', 'Animals', 'Bi...  11426874   \n",
              "4  ['Antineoplastic Agents', 'Cell Proliferation'...  28323099   \n",
              "\n",
              "                                              meshid  \\\n",
              "0  [['D13.444.600.223.555', 'D27.505.259.750.600....   \n",
              "1  [['M01.060.116'], ['D08.811.277.352.650.035'],...   \n",
              "2  [['G02.111.570.060', 'L01.453.245.667.060'], [...   \n",
              "3  [['D05.750.716.822.111', 'D25.720.716.822.111'...   \n",
              "4  [['D27.505.954.248'], ['G04.161.750', 'G07.345...   \n",
              "\n",
              "                                            meshroot  abstracttext_length  \\\n",
              "0  ['Chemicals and Drugs [D]', 'Organisms [B]', '...                  760   \n",
              "1  ['Named Groups [M]', 'Chemicals and Drugs [D]'...                 1747   \n",
              "2  ['Phenomena and Processes [G]', 'Information S...                  693   \n",
              "3  ['Chemicals and Drugs [D]', 'Technology, Indus...                 1870   \n",
              "4  ['Chemicals and Drugs [D]', 'Phenomena and Pro...                 1617   \n",
              "\n",
              "   is_diseases  \n",
              "0         True  \n",
              "1         True  \n",
              "2        False  \n",
              "3         True  \n",
              "4        False  "
            ],
            "text/html": [
              "\n",
              "  <div id=\"df-0ee1c1d2-c55b-412c-8b55-d4d6a2e0d91c\" class=\"colab-df-container\">\n",
              "    <div>\n",
              "<style scoped>\n",
              "    .dataframe tbody tr th:only-of-type {\n",
              "        vertical-align: middle;\n",
              "    }\n",
              "\n",
              "    .dataframe tbody tr th {\n",
              "        vertical-align: top;\n",
              "    }\n",
              "\n",
              "    .dataframe thead th {\n",
              "        text-align: right;\n",
              "    }\n",
              "</style>\n",
              "<table border=\"1\" class=\"dataframe\">\n",
              "  <thead>\n",
              "    <tr style=\"text-align: right;\">\n",
              "      <th></th>\n",
              "      <th>title</th>\n",
              "      <th>abstracttext</th>\n",
              "      <th>meshmajor</th>\n",
              "      <th>pmid</th>\n",
              "      <th>meshid</th>\n",
              "      <th>meshroot</th>\n",
              "      <th>abstracttext_length</th>\n",
              "      <th>is_diseases</th>\n",
              "    </tr>\n",
              "  </thead>\n",
              "  <tbody>\n",
              "    <tr>\n",
              "      <th>0</th>\n",
              "      <td>Expression of p53 and coexistence of HPV in pr...</td>\n",
              "      <td>Fiftyfour paraffin embedded tissue sections fr...</td>\n",
              "      <td>['DNA Probes, HPV', 'DNA, Viral', 'Female', 'H...</td>\n",
              "      <td>8549602</td>\n",
              "      <td>[['D13.444.600.223.555', 'D27.505.259.750.600....</td>\n",
              "      <td>['Chemicals and Drugs [D]', 'Organisms [B]', '...</td>\n",
              "      <td>760</td>\n",
              "      <td>True</td>\n",
              "    </tr>\n",
              "    <tr>\n",
              "      <th>1</th>\n",
              "      <td>Vitamin D status in pregnant Indian women acro...</td>\n",
              "      <td>The present crosssectional study was conducted...</td>\n",
              "      <td>['Adult', 'Alkaline Phosphatase', 'Breast Feed...</td>\n",
              "      <td>21736816</td>\n",
              "      <td>[['M01.060.116'], ['D08.811.277.352.650.035'],...</td>\n",
              "      <td>['Named Groups [M]', 'Chemicals and Drugs [D]'...</td>\n",
              "      <td>1747</td>\n",
              "      <td>True</td>\n",
              "    </tr>\n",
              "    <tr>\n",
              "      <th>2</th>\n",
              "      <td>[Identification of a functionally important di...</td>\n",
              "      <td>The occurrence of individual amino acids and d...</td>\n",
              "      <td>['Amino Acid Sequence', 'Analgesics, Opioid', ...</td>\n",
              "      <td>19060934</td>\n",
              "      <td>[['G02.111.570.060', 'L01.453.245.667.060'], [...</td>\n",
              "      <td>['Phenomena and Processes [G]', 'Information S...</td>\n",
              "      <td>693</td>\n",
              "      <td>False</td>\n",
              "    </tr>\n",
              "    <tr>\n",
              "      <th>3</th>\n",
              "      <td>Multilayer capsules: a promising microencapsul...</td>\n",
              "      <td>In 1980 Lim and Sun introduced a microcapsule ...</td>\n",
              "      <td>['Acrylic Resins', 'Alginates', 'Animals', 'Bi...</td>\n",
              "      <td>11426874</td>\n",
              "      <td>[['D05.750.716.822.111', 'D25.720.716.822.111'...</td>\n",
              "      <td>['Chemicals and Drugs [D]', 'Technology, Indus...</td>\n",
              "      <td>1870</td>\n",
              "      <td>True</td>\n",
              "    </tr>\n",
              "    <tr>\n",
              "      <th>4</th>\n",
              "      <td>Nanohydrogel with N,N'-bis(acryloyl)cystine cr...</td>\n",
              "      <td>Substantially improved hydrogel particles base...</td>\n",
              "      <td>['Antineoplastic Agents', 'Cell Proliferation'...</td>\n",
              "      <td>28323099</td>\n",
              "      <td>[['D27.505.954.248'], ['G04.161.750', 'G07.345...</td>\n",
              "      <td>['Chemicals and Drugs [D]', 'Phenomena and Pro...</td>\n",
              "      <td>1617</td>\n",
              "      <td>False</td>\n",
              "    </tr>\n",
              "  </tbody>\n",
              "</table>\n",
              "</div>\n",
              "    <div class=\"colab-df-buttons\">\n",
              "\n",
              "  <div class=\"colab-df-container\">\n",
              "    <button class=\"colab-df-convert\" onclick=\"convertToInteractive('df-0ee1c1d2-c55b-412c-8b55-d4d6a2e0d91c')\"\n",
              "            title=\"Convert this dataframe to an interactive table.\"\n",
              "            style=\"display:none;\">\n",
              "\n",
              "  <svg xmlns=\"http://www.w3.org/2000/svg\" height=\"24px\" viewBox=\"0 -960 960 960\">\n",
              "    <path d=\"M120-120v-720h720v720H120Zm60-500h600v-160H180v160Zm220 220h160v-160H400v160Zm0 220h160v-160H400v160ZM180-400h160v-160H180v160Zm440 0h160v-160H620v160ZM180-180h160v-160H180v160Zm440 0h160v-160H620v160Z\"/>\n",
              "  </svg>\n",
              "    </button>\n",
              "\n",
              "  <style>\n",
              "    .colab-df-container {\n",
              "      display:flex;\n",
              "      gap: 12px;\n",
              "    }\n",
              "\n",
              "    .colab-df-convert {\n",
              "      background-color: #E8F0FE;\n",
              "      border: none;\n",
              "      border-radius: 50%;\n",
              "      cursor: pointer;\n",
              "      display: none;\n",
              "      fill: #1967D2;\n",
              "      height: 32px;\n",
              "      padding: 0 0 0 0;\n",
              "      width: 32px;\n",
              "    }\n",
              "\n",
              "    .colab-df-convert:hover {\n",
              "      background-color: #E2EBFA;\n",
              "      box-shadow: 0px 1px 2px rgba(60, 64, 67, 0.3), 0px 1px 3px 1px rgba(60, 64, 67, 0.15);\n",
              "      fill: #174EA6;\n",
              "    }\n",
              "\n",
              "    .colab-df-buttons div {\n",
              "      margin-bottom: 4px;\n",
              "    }\n",
              "\n",
              "    [theme=dark] .colab-df-convert {\n",
              "      background-color: #3B4455;\n",
              "      fill: #D2E3FC;\n",
              "    }\n",
              "\n",
              "    [theme=dark] .colab-df-convert:hover {\n",
              "      background-color: #434B5C;\n",
              "      box-shadow: 0px 1px 3px 1px rgba(0, 0, 0, 0.15);\n",
              "      filter: drop-shadow(0px 1px 2px rgba(0, 0, 0, 0.3));\n",
              "      fill: #FFFFFF;\n",
              "    }\n",
              "  </style>\n",
              "\n",
              "    <script>\n",
              "      const buttonEl =\n",
              "        document.querySelector('#df-0ee1c1d2-c55b-412c-8b55-d4d6a2e0d91c button.colab-df-convert');\n",
              "      buttonEl.style.display =\n",
              "        google.colab.kernel.accessAllowed ? 'block' : 'none';\n",
              "\n",
              "      async function convertToInteractive(key) {\n",
              "        const element = document.querySelector('#df-0ee1c1d2-c55b-412c-8b55-d4d6a2e0d91c');\n",
              "        const dataTable =\n",
              "          await google.colab.kernel.invokeFunction('convertToInteractive',\n",
              "                                                    [key], {});\n",
              "        if (!dataTable) return;\n",
              "\n",
              "        const docLinkHtml = 'Like what you see? Visit the ' +\n",
              "          '<a target=\"_blank\" href=https://colab.research.google.com/notebooks/data_table.ipynb>data table notebook</a>'\n",
              "          + ' to learn more about interactive tables.';\n",
              "        element.innerHTML = '';\n",
              "        dataTable['output_type'] = 'display_data';\n",
              "        await google.colab.output.renderOutput(dataTable, element);\n",
              "        const docLink = document.createElement('div');\n",
              "        docLink.innerHTML = docLinkHtml;\n",
              "        element.appendChild(docLink);\n",
              "      }\n",
              "    </script>\n",
              "  </div>\n",
              "\n",
              "\n",
              "<div id=\"df-5c5f6431-1974-4bb7-a034-bc5b4533c3c5\">\n",
              "  <button class=\"colab-df-quickchart\" onclick=\"quickchart('df-5c5f6431-1974-4bb7-a034-bc5b4533c3c5')\"\n",
              "            title=\"Suggest charts\"\n",
              "            style=\"display:none;\">\n",
              "\n",
              "<svg xmlns=\"http://www.w3.org/2000/svg\" height=\"24px\"viewBox=\"0 0 24 24\"\n",
              "     width=\"24px\">\n",
              "    <g>\n",
              "        <path d=\"M19 3H5c-1.1 0-2 .9-2 2v14c0 1.1.9 2 2 2h14c1.1 0 2-.9 2-2V5c0-1.1-.9-2-2-2zM9 17H7v-7h2v7zm4 0h-2V7h2v10zm4 0h-2v-4h2v4z\"/>\n",
              "    </g>\n",
              "</svg>\n",
              "  </button>\n",
              "\n",
              "<style>\n",
              "  .colab-df-quickchart {\n",
              "      --bg-color: #E8F0FE;\n",
              "      --fill-color: #1967D2;\n",
              "      --hover-bg-color: #E2EBFA;\n",
              "      --hover-fill-color: #174EA6;\n",
              "      --disabled-fill-color: #AAA;\n",
              "      --disabled-bg-color: #DDD;\n",
              "  }\n",
              "\n",
              "  [theme=dark] .colab-df-quickchart {\n",
              "      --bg-color: #3B4455;\n",
              "      --fill-color: #D2E3FC;\n",
              "      --hover-bg-color: #434B5C;\n",
              "      --hover-fill-color: #FFFFFF;\n",
              "      --disabled-bg-color: #3B4455;\n",
              "      --disabled-fill-color: #666;\n",
              "  }\n",
              "\n",
              "  .colab-df-quickchart {\n",
              "    background-color: var(--bg-color);\n",
              "    border: none;\n",
              "    border-radius: 50%;\n",
              "    cursor: pointer;\n",
              "    display: none;\n",
              "    fill: var(--fill-color);\n",
              "    height: 32px;\n",
              "    padding: 0;\n",
              "    width: 32px;\n",
              "  }\n",
              "\n",
              "  .colab-df-quickchart:hover {\n",
              "    background-color: var(--hover-bg-color);\n",
              "    box-shadow: 0 1px 2px rgba(60, 64, 67, 0.3), 0 1px 3px 1px rgba(60, 64, 67, 0.15);\n",
              "    fill: var(--button-hover-fill-color);\n",
              "  }\n",
              "\n",
              "  .colab-df-quickchart-complete:disabled,\n",
              "  .colab-df-quickchart-complete:disabled:hover {\n",
              "    background-color: var(--disabled-bg-color);\n",
              "    fill: var(--disabled-fill-color);\n",
              "    box-shadow: none;\n",
              "  }\n",
              "\n",
              "  .colab-df-spinner {\n",
              "    border: 2px solid var(--fill-color);\n",
              "    border-color: transparent;\n",
              "    border-bottom-color: var(--fill-color);\n",
              "    animation:\n",
              "      spin 1s steps(1) infinite;\n",
              "  }\n",
              "\n",
              "  @keyframes spin {\n",
              "    0% {\n",
              "      border-color: transparent;\n",
              "      border-bottom-color: var(--fill-color);\n",
              "      border-left-color: var(--fill-color);\n",
              "    }\n",
              "    20% {\n",
              "      border-color: transparent;\n",
              "      border-left-color: var(--fill-color);\n",
              "      border-top-color: var(--fill-color);\n",
              "    }\n",
              "    30% {\n",
              "      border-color: transparent;\n",
              "      border-left-color: var(--fill-color);\n",
              "      border-top-color: var(--fill-color);\n",
              "      border-right-color: var(--fill-color);\n",
              "    }\n",
              "    40% {\n",
              "      border-color: transparent;\n",
              "      border-right-color: var(--fill-color);\n",
              "      border-top-color: var(--fill-color);\n",
              "    }\n",
              "    60% {\n",
              "      border-color: transparent;\n",
              "      border-right-color: var(--fill-color);\n",
              "    }\n",
              "    80% {\n",
              "      border-color: transparent;\n",
              "      border-right-color: var(--fill-color);\n",
              "      border-bottom-color: var(--fill-color);\n",
              "    }\n",
              "    90% {\n",
              "      border-color: transparent;\n",
              "      border-bottom-color: var(--fill-color);\n",
              "    }\n",
              "  }\n",
              "</style>\n",
              "\n",
              "  <script>\n",
              "    async function quickchart(key) {\n",
              "      const quickchartButtonEl =\n",
              "        document.querySelector('#' + key + ' button');\n",
              "      quickchartButtonEl.disabled = true;  // To prevent multiple clicks.\n",
              "      quickchartButtonEl.classList.add('colab-df-spinner');\n",
              "      try {\n",
              "        const charts = await google.colab.kernel.invokeFunction(\n",
              "            'suggestCharts', [key], {});\n",
              "      } catch (error) {\n",
              "        console.error('Error during call to suggestCharts:', error);\n",
              "      }\n",
              "      quickchartButtonEl.classList.remove('colab-df-spinner');\n",
              "      quickchartButtonEl.classList.add('colab-df-quickchart-complete');\n",
              "    }\n",
              "    (() => {\n",
              "      let quickchartButtonEl =\n",
              "        document.querySelector('#df-5c5f6431-1974-4bb7-a034-bc5b4533c3c5 button');\n",
              "      quickchartButtonEl.style.display =\n",
              "        google.colab.kernel.accessAllowed ? 'block' : 'none';\n",
              "    })();\n",
              "  </script>\n",
              "</div>\n",
              "\n",
              "    </div>\n",
              "  </div>\n"
            ],
            "application/vnd.google.colaboratory.intrinsic+json": {
              "type": "dataframe",
              "variable_name": "pubmed_data",
              "summary": "{\n  \"name\": \"pubmed_data\",\n  \"rows\": 9197,\n  \"fields\": [\n    {\n      \"column\": \"title\",\n      \"properties\": {\n        \"dtype\": \"string\",\n        \"num_unique_values\": 9194,\n        \"samples\": [\n          \"Mostly heterosexual and mostly gay/lesbian: evidence for new sexual orientation identities.\",\n          \"Desmopressin 120 mcg, 180 mcg, 240 mcg: The right treatment for the right patient.\",\n          \"Clinical presentation and natural history of chronic persistent hepatitis. A multicentre retrospective study on 1197 cases.\"\n        ],\n        \"semantic_type\": \"\",\n        \"description\": \"\"\n      }\n    },\n    {\n      \"column\": \"abstracttext\",\n      \"properties\": {\n        \"dtype\": \"string\",\n        \"num_unique_values\": 9194,\n        \"samples\": [\n          \"A sample of 1784 individuals responded to an online survey advertised on the Facebook social networking website We explored the sexual orientation continuum by focusing on three components selfreported sexual orientation identity sexual attraction and sexual partners Results supported a 5category classification of identity heterosexual mostly heterosexual bisexual mostly gaylesbian gaylesbian in that two added identity labels mostly heterosexual and mostly gaylesbian were frequently chosen by participants andor showed unique patterns of attraction and partners distinct from their adjacent identities heterosexual and bisexual and bisexual and gaylesbian respectively Those who reported an exclusive label heterosexual gaylesbian were not necessarily exclusive in other components a significant minority of heterosexuals and the majority of gayslesbians reported some attraction andor partners toward their nonpreferred sex The five identity groups differed in attraction and partners in a manner consistent with a continuous rather than a categorical distribution of sexual orientation Findings also supported a sexual orientation continuum as consisting of two rather than one distinct dimensions same and othersex sexuality Having more samesex sexuality did not necessarily imply having less othersex sexuality and vice versa More men than women were at the exclusive ends of the continuum however men were not bimodally distributed in that a significant minority reported nonexclusivity in their sexuality\",\n          \"BACKGROUND The firstline drug therapy for patients with nocturnal enuresis NE associated with nocturnal polyuria and normal bladder function is desmopressin dDAVPOBJECTIVE To evaluate if increasing dose of oral desmopressin lyophilisate MELT can improve response rates to dDAVP and is useful in enuretic childrenMATERIALS AND METHODS We enrolled a total of 260 children all diagnosed with NE Enuretic children were treated with increasing MELT at a dose of 120 180 and 240 mcg a dayRESULTS We included in our study a total of 237 children 164 males 692 and 73 females 308 aged between 5 and 18 years mean age 1032 \\u00b1 252 years Of the 237 patients enrolled in the study and treated with MELT 120 mcg a full response was achieved in 135 569 A partial response was achieved in 21 89 patients therefore the dose was increased up to 180 mcg with further improving symptoms 143 or full response 95 and up to 240 mcg without usefulnessCONCLUSIONS MELT at the dose of 120 mcg resulted efficacy and safety the increased dose up to 180 mcg resulted poorly efficacy finally the further increase up to 240 mcg did not improve the symptoms with the increased risk of side effects\",\n          \"To obtain data on the clinical presentation and the course of the disease of biopsyproven chronic persistent hepatitis CPH we coordinated a multicentre retrospective study on 1197 patients observed in 16 liver units throughout Italy from 1975 to 1985 Most patients were asymptomatic and CPH was often diagnosed either after a chance finding of liver enlargement or increased serum aminotransferases andor HBsAg antigenemia Of the 1197 patients 534 446 were HBsAgpositive and 663 554 were HBsAgnegative HBeAg was tested in 356 of the 534 positive cases and detected in 584 of them This percentage was higher 80 in patients under 20 Hepatitis delta virus infection HDAg in liver tissue andor antiHD in serum was detected in 28 147 of the 191 patients tested on presentation Liver function tests showed mild hepatic involvement in both HBsAgpositive and negative cases a pronounced derangement being observed only in patients with HDV infection A second liver biopsy was performed in 212 patients 144 HBsAg positive and 68 HBsAg negative and the outcome of the disease was evaluated only in these 212 patients Of the 144 HBsAgpositive cases followedup from one to ten years median 4 years 47 recovered 70 remained unchanged and 27 developed chronic active hepatitis or cirrhosis Clearance of HBsAg was uncommon even in patients who recovered Being under 15 years of age favourably affected the course of the disease while HDV infection was correlated to an unfavourable outcome Among those patients who were HBeAg positive on presentation and who underwent a second affect the outcome Of the 68 HBsAgnegative clearly affect the outcomeABSTRACT TRUNCATED AT 250 WORDS\"\n        ],\n        \"semantic_type\": \"\",\n        \"description\": \"\"\n      }\n    },\n    {\n      \"column\": \"meshmajor\",\n      \"properties\": {\n        \"dtype\": \"string\",\n        \"num_unique_values\": 9193,\n        \"samples\": [\n          \"['Bacterial Proteins', 'Escherichia coli', 'Glyoxylates', 'Isocitrate Dehydrogenase', 'Mutation', 'Phosphorylation']\",\n          \"['Administration, Oral', 'Adolescent', 'Child', 'Child, Preschool', 'Deamino Arginine Vasopressin', 'Dose-Response Relationship, Drug', 'Female', 'Humans', 'Male', 'Nocturnal Enuresis', 'Renal Agents', 'Treatment Outcome']\",\n          \"['Aged', 'Arterial Occlusive Diseases', 'Arteriosclerosis', 'Cerebral Angiography', 'Cerebral Arteries', 'Cerebrovascular Disorders', 'Constriction, Pathologic', 'Female', 'Humans', 'Intracranial Embolism and Thrombosis', 'Ischemic Attack, Transient']\"\n        ],\n        \"semantic_type\": \"\",\n        \"description\": \"\"\n      }\n    },\n    {\n      \"column\": \"pmid\",\n      \"properties\": {\n        \"dtype\": \"number\",\n        \"std\": 9393699,\n        \"min\": 506,\n        \"max\": 33211903,\n        \"num_unique_values\": 9194,\n        \"samples\": [\n          22327566,\n          29974730,\n          1742503\n        ],\n        \"semantic_type\": \"\",\n        \"description\": \"\"\n      }\n    },\n    {\n      \"column\": \"meshid\",\n      \"properties\": {\n        \"dtype\": \"string\",\n        \"num_unique_values\": 9115,\n        \"samples\": [\n          \"[['B01.050'], ['E01.370.350.700.070'], ['E01.370.388.250.070', 'E04.502.250.070', 'E04.555.113'], ['B01.050.150.900.649.313.750.250.216.200'], ['A13.395'], ['A02.835.232.087.090.400'], ['A02.835.583'], ['E01.370.350.350.810', 'E01.370.350.600.350.700.810', 'E01.370.350.700.700.810', 'E01.370.350.700.810.810', 'E01.370.350.825.810.810'], ['A02.835.232.087.090.850']]\",\n          \"[['D02.241.081.844.107', 'D02.241.511.902.107', 'D09.811.100'], ['D01.625.100', 'D02.159'], ['D01.248.497.158.291', 'D01.625.400.100'], ['D05.500.562.374', 'D08.811.600.250.687', 'D08.811.682.285', 'D12.776.157.530.450.250.875.304', 'D12.776.543.277.687', 'D12.776.543.585.450.250.875.484'], ['D27.720.470.480'], ['G02.700', 'G03.295.531'], ['E05.196.867'], ['D01.248.497.158.874', 'D01.875.350.850', 'D02.886.520'], ['D02.092.146.651.900', 'D02.092.782.258.651.900']]\",\n          \"[['B01.050'], ['B01.050.150.900.649.313.500.380.271'], ['A11.284.149'], ['D04.210.500.105.225', 'D04.210.500.221.430'], ['D04.210.500.155.580.130.500.236', 'D09.408.180.261.236'], ['G02.111.570.685', 'G02.607.445'], ['G01.358.500.505.650', 'G01.590.540', 'G01.750.250.650', 'G01.750.770.578'], ['G02.740.685'], ['D23.767.930'], ['D12.776.543.750.695.955', 'D23.767.930.750.500.500'], ['A08.675.650.850.625.670.375.500', 'A08.675.650.850.625.670.650.650', 'A08.675.650.915.937.670.375.500', 'A08.675.650.915.937.670.650.650', 'A08.800.950.937.670.375.500', 'A08.800.950.937.670.650.650', 'A09.371.729.831.625.670.375.500', 'A09.371.729.831.625.670.650.650', 'A11.671.650.850.625.670.375.500', 'A11.671.650.850.625.670.650.650', 'A11.671.650.915.937.670.375.500', 'A11.671.650.915.937.670.650.650'], ['G02.805'], ['E05.196.712.726', 'E05.196.867.826']]\"\n        ],\n        \"semantic_type\": \"\",\n        \"description\": \"\"\n      }\n    },\n    {\n      \"column\": \"meshroot\",\n      \"properties\": {\n        \"dtype\": \"string\",\n        \"num_unique_values\": 6508,\n        \"samples\": [\n          \"['Named Groups [M]', 'Geographicals [Z]', 'Chemicals and Drugs [D]', 'Phenomena and Processes [G]', 'Technology, Industry, and Agriculture [J]', 'Psychiatry and Psychology [F]', 'Anthropology, Education, Sociology, and Social Phenomena [I]', 'Health Care [N]', 'Organisms [B]', 'Information Science [L]']\",\n          \"['Chemicals and Drugs [D]', 'Geographicals [Z]', 'Health Care [N]', 'Diseases [C]', 'Organisms [B]', 'Analytical, Diagnostic and Therapeutic Techniques, and Equipment [E]', 'Information Science [L]']\",\n          \"['Named Groups [M]', 'Chemicals and Drugs [D]', 'Analytical, Diagnostic and Therapeutic Techniques, and Equipment [E]', 'Diseases [C]', 'Organisms [B]', 'Anthropology, Education, Sociology, and Social Phenomena [I]', 'Humanities [K]', 'Health Care [N]']\"\n        ],\n        \"semantic_type\": \"\",\n        \"description\": \"\"\n      }\n    },\n    {\n      \"column\": \"abstracttext_length\",\n      \"properties\": {\n        \"dtype\": \"number\",\n        \"std\": 428,\n        \"min\": 201,\n        \"max\": 1999,\n        \"num_unique_values\": 1722,\n        \"samples\": [\n          1425,\n          1507,\n          775\n        ],\n        \"semantic_type\": \"\",\n        \"description\": \"\"\n      }\n    },\n    {\n      \"column\": \"is_diseases\",\n      \"properties\": {\n        \"dtype\": \"boolean\",\n        \"num_unique_values\": 2,\n        \"samples\": [\n          false,\n          true\n        ],\n        \"semantic_type\": \"\",\n        \"description\": \"\"\n      }\n    }\n  ]\n}"
            }
          },
          "metadata": {},
          "execution_count": 577
        }
      ]
    },
    {
      "cell_type": "markdown",
      "source": [
        "Lemmatisation"
      ],
      "metadata": {
        "id": "7q7Xv01KVwB6"
      }
    },
    {
      "cell_type": "code",
      "source": [
        "lemmatizer = WordNetLemmatizer()\n",
        "def lemmatize_text(row):\n",
        "  row.abstracttext = \" \".join(lemmatizer.lemmatize(word) for word in row.abstracttext.split())\n",
        "  return row"
      ],
      "metadata": {
        "id": "T9kmj8uJVpTI"
      },
      "execution_count": null,
      "outputs": []
    },
    {
      "cell_type": "code",
      "source": [
        "pubmed_data = pubmed_data.apply(lemmatize_text, axis=1)"
      ],
      "metadata": {
        "id": "vs2NS2vfV39R"
      },
      "execution_count": null,
      "outputs": []
    },
    {
      "cell_type": "code",
      "source": [
        "pubmed_data.head()"
      ],
      "metadata": {
        "colab": {
          "base_uri": "https://localhost:8080/",
          "height": 591
        },
        "id": "57A2VhF-V6DK",
        "outputId": "a8d128b9-a1cc-43ff-f528-58f1e8c33abc"
      },
      "execution_count": null,
      "outputs": [
        {
          "output_type": "execute_result",
          "data": {
            "text/plain": [
              "                                               title  \\\n",
              "0  Expression of p53 and coexistence of HPV in pr...   \n",
              "1  Vitamin D status in pregnant Indian women acro...   \n",
              "2  [Identification of a functionally important di...   \n",
              "3  Multilayer capsules: a promising microencapsul...   \n",
              "4  Nanohydrogel with N,N'-bis(acryloyl)cystine cr...   \n",
              "\n",
              "                                        abstracttext  \\\n",
              "0  Fiftyfour paraffin embedded tissue section fro...   \n",
              "1  The present crosssectional study wa conducted ...   \n",
              "2  The occurrence of individual amino acid and di...   \n",
              "3  In 1980 Lim and Sun introduced a microcapsule ...   \n",
              "4  Substantially improved hydrogel particle based...   \n",
              "\n",
              "                                           meshmajor      pmid  \\\n",
              "0  ['DNA Probes, HPV', 'DNA, Viral', 'Female', 'H...   8549602   \n",
              "1  ['Adult', 'Alkaline Phosphatase', 'Breast Feed...  21736816   \n",
              "2  ['Amino Acid Sequence', 'Analgesics, Opioid', ...  19060934   \n",
              "3  ['Acrylic Resins', 'Alginates', 'Animals', 'Bi...  11426874   \n",
              "4  ['Antineoplastic Agents', 'Cell Proliferation'...  28323099   \n",
              "\n",
              "                                              meshid  \\\n",
              "0  [['D13.444.600.223.555', 'D27.505.259.750.600....   \n",
              "1  [['M01.060.116'], ['D08.811.277.352.650.035'],...   \n",
              "2  [['G02.111.570.060', 'L01.453.245.667.060'], [...   \n",
              "3  [['D05.750.716.822.111', 'D25.720.716.822.111'...   \n",
              "4  [['D27.505.954.248'], ['G04.161.750', 'G07.345...   \n",
              "\n",
              "                                            meshroot  abstracttext_length  \\\n",
              "0  ['Chemicals and Drugs [D]', 'Organisms [B]', '...                  760   \n",
              "1  ['Named Groups [M]', 'Chemicals and Drugs [D]'...                 1747   \n",
              "2  ['Phenomena and Processes [G]', 'Information S...                  693   \n",
              "3  ['Chemicals and Drugs [D]', 'Technology, Indus...                 1870   \n",
              "4  ['Chemicals and Drugs [D]', 'Phenomena and Pro...                 1617   \n",
              "\n",
              "   is_diseases  \n",
              "0         True  \n",
              "1         True  \n",
              "2        False  \n",
              "3         True  \n",
              "4        False  "
            ],
            "text/html": [
              "\n",
              "  <div id=\"df-5a75404c-1f0f-47b2-8b5f-59ba9a45ed4f\" class=\"colab-df-container\">\n",
              "    <div>\n",
              "<style scoped>\n",
              "    .dataframe tbody tr th:only-of-type {\n",
              "        vertical-align: middle;\n",
              "    }\n",
              "\n",
              "    .dataframe tbody tr th {\n",
              "        vertical-align: top;\n",
              "    }\n",
              "\n",
              "    .dataframe thead th {\n",
              "        text-align: right;\n",
              "    }\n",
              "</style>\n",
              "<table border=\"1\" class=\"dataframe\">\n",
              "  <thead>\n",
              "    <tr style=\"text-align: right;\">\n",
              "      <th></th>\n",
              "      <th>title</th>\n",
              "      <th>abstracttext</th>\n",
              "      <th>meshmajor</th>\n",
              "      <th>pmid</th>\n",
              "      <th>meshid</th>\n",
              "      <th>meshroot</th>\n",
              "      <th>abstracttext_length</th>\n",
              "      <th>is_diseases</th>\n",
              "    </tr>\n",
              "  </thead>\n",
              "  <tbody>\n",
              "    <tr>\n",
              "      <th>0</th>\n",
              "      <td>Expression of p53 and coexistence of HPV in pr...</td>\n",
              "      <td>Fiftyfour paraffin embedded tissue section fro...</td>\n",
              "      <td>['DNA Probes, HPV', 'DNA, Viral', 'Female', 'H...</td>\n",
              "      <td>8549602</td>\n",
              "      <td>[['D13.444.600.223.555', 'D27.505.259.750.600....</td>\n",
              "      <td>['Chemicals and Drugs [D]', 'Organisms [B]', '...</td>\n",
              "      <td>760</td>\n",
              "      <td>True</td>\n",
              "    </tr>\n",
              "    <tr>\n",
              "      <th>1</th>\n",
              "      <td>Vitamin D status in pregnant Indian women acro...</td>\n",
              "      <td>The present crosssectional study wa conducted ...</td>\n",
              "      <td>['Adult', 'Alkaline Phosphatase', 'Breast Feed...</td>\n",
              "      <td>21736816</td>\n",
              "      <td>[['M01.060.116'], ['D08.811.277.352.650.035'],...</td>\n",
              "      <td>['Named Groups [M]', 'Chemicals and Drugs [D]'...</td>\n",
              "      <td>1747</td>\n",
              "      <td>True</td>\n",
              "    </tr>\n",
              "    <tr>\n",
              "      <th>2</th>\n",
              "      <td>[Identification of a functionally important di...</td>\n",
              "      <td>The occurrence of individual amino acid and di...</td>\n",
              "      <td>['Amino Acid Sequence', 'Analgesics, Opioid', ...</td>\n",
              "      <td>19060934</td>\n",
              "      <td>[['G02.111.570.060', 'L01.453.245.667.060'], [...</td>\n",
              "      <td>['Phenomena and Processes [G]', 'Information S...</td>\n",
              "      <td>693</td>\n",
              "      <td>False</td>\n",
              "    </tr>\n",
              "    <tr>\n",
              "      <th>3</th>\n",
              "      <td>Multilayer capsules: a promising microencapsul...</td>\n",
              "      <td>In 1980 Lim and Sun introduced a microcapsule ...</td>\n",
              "      <td>['Acrylic Resins', 'Alginates', 'Animals', 'Bi...</td>\n",
              "      <td>11426874</td>\n",
              "      <td>[['D05.750.716.822.111', 'D25.720.716.822.111'...</td>\n",
              "      <td>['Chemicals and Drugs [D]', 'Technology, Indus...</td>\n",
              "      <td>1870</td>\n",
              "      <td>True</td>\n",
              "    </tr>\n",
              "    <tr>\n",
              "      <th>4</th>\n",
              "      <td>Nanohydrogel with N,N'-bis(acryloyl)cystine cr...</td>\n",
              "      <td>Substantially improved hydrogel particle based...</td>\n",
              "      <td>['Antineoplastic Agents', 'Cell Proliferation'...</td>\n",
              "      <td>28323099</td>\n",
              "      <td>[['D27.505.954.248'], ['G04.161.750', 'G07.345...</td>\n",
              "      <td>['Chemicals and Drugs [D]', 'Phenomena and Pro...</td>\n",
              "      <td>1617</td>\n",
              "      <td>False</td>\n",
              "    </tr>\n",
              "  </tbody>\n",
              "</table>\n",
              "</div>\n",
              "    <div class=\"colab-df-buttons\">\n",
              "\n",
              "  <div class=\"colab-df-container\">\n",
              "    <button class=\"colab-df-convert\" onclick=\"convertToInteractive('df-5a75404c-1f0f-47b2-8b5f-59ba9a45ed4f')\"\n",
              "            title=\"Convert this dataframe to an interactive table.\"\n",
              "            style=\"display:none;\">\n",
              "\n",
              "  <svg xmlns=\"http://www.w3.org/2000/svg\" height=\"24px\" viewBox=\"0 -960 960 960\">\n",
              "    <path d=\"M120-120v-720h720v720H120Zm60-500h600v-160H180v160Zm220 220h160v-160H400v160Zm0 220h160v-160H400v160ZM180-400h160v-160H180v160Zm440 0h160v-160H620v160ZM180-180h160v-160H180v160Zm440 0h160v-160H620v160Z\"/>\n",
              "  </svg>\n",
              "    </button>\n",
              "\n",
              "  <style>\n",
              "    .colab-df-container {\n",
              "      display:flex;\n",
              "      gap: 12px;\n",
              "    }\n",
              "\n",
              "    .colab-df-convert {\n",
              "      background-color: #E8F0FE;\n",
              "      border: none;\n",
              "      border-radius: 50%;\n",
              "      cursor: pointer;\n",
              "      display: none;\n",
              "      fill: #1967D2;\n",
              "      height: 32px;\n",
              "      padding: 0 0 0 0;\n",
              "      width: 32px;\n",
              "    }\n",
              "\n",
              "    .colab-df-convert:hover {\n",
              "      background-color: #E2EBFA;\n",
              "      box-shadow: 0px 1px 2px rgba(60, 64, 67, 0.3), 0px 1px 3px 1px rgba(60, 64, 67, 0.15);\n",
              "      fill: #174EA6;\n",
              "    }\n",
              "\n",
              "    .colab-df-buttons div {\n",
              "      margin-bottom: 4px;\n",
              "    }\n",
              "\n",
              "    [theme=dark] .colab-df-convert {\n",
              "      background-color: #3B4455;\n",
              "      fill: #D2E3FC;\n",
              "    }\n",
              "\n",
              "    [theme=dark] .colab-df-convert:hover {\n",
              "      background-color: #434B5C;\n",
              "      box-shadow: 0px 1px 3px 1px rgba(0, 0, 0, 0.15);\n",
              "      filter: drop-shadow(0px 1px 2px rgba(0, 0, 0, 0.3));\n",
              "      fill: #FFFFFF;\n",
              "    }\n",
              "  </style>\n",
              "\n",
              "    <script>\n",
              "      const buttonEl =\n",
              "        document.querySelector('#df-5a75404c-1f0f-47b2-8b5f-59ba9a45ed4f button.colab-df-convert');\n",
              "      buttonEl.style.display =\n",
              "        google.colab.kernel.accessAllowed ? 'block' : 'none';\n",
              "\n",
              "      async function convertToInteractive(key) {\n",
              "        const element = document.querySelector('#df-5a75404c-1f0f-47b2-8b5f-59ba9a45ed4f');\n",
              "        const dataTable =\n",
              "          await google.colab.kernel.invokeFunction('convertToInteractive',\n",
              "                                                    [key], {});\n",
              "        if (!dataTable) return;\n",
              "\n",
              "        const docLinkHtml = 'Like what you see? Visit the ' +\n",
              "          '<a target=\"_blank\" href=https://colab.research.google.com/notebooks/data_table.ipynb>data table notebook</a>'\n",
              "          + ' to learn more about interactive tables.';\n",
              "        element.innerHTML = '';\n",
              "        dataTable['output_type'] = 'display_data';\n",
              "        await google.colab.output.renderOutput(dataTable, element);\n",
              "        const docLink = document.createElement('div');\n",
              "        docLink.innerHTML = docLinkHtml;\n",
              "        element.appendChild(docLink);\n",
              "      }\n",
              "    </script>\n",
              "  </div>\n",
              "\n",
              "\n",
              "<div id=\"df-9cdf91a3-4ef2-40eb-9a3c-1e337c5658a7\">\n",
              "  <button class=\"colab-df-quickchart\" onclick=\"quickchart('df-9cdf91a3-4ef2-40eb-9a3c-1e337c5658a7')\"\n",
              "            title=\"Suggest charts\"\n",
              "            style=\"display:none;\">\n",
              "\n",
              "<svg xmlns=\"http://www.w3.org/2000/svg\" height=\"24px\"viewBox=\"0 0 24 24\"\n",
              "     width=\"24px\">\n",
              "    <g>\n",
              "        <path d=\"M19 3H5c-1.1 0-2 .9-2 2v14c0 1.1.9 2 2 2h14c1.1 0 2-.9 2-2V5c0-1.1-.9-2-2-2zM9 17H7v-7h2v7zm4 0h-2V7h2v10zm4 0h-2v-4h2v4z\"/>\n",
              "    </g>\n",
              "</svg>\n",
              "  </button>\n",
              "\n",
              "<style>\n",
              "  .colab-df-quickchart {\n",
              "      --bg-color: #E8F0FE;\n",
              "      --fill-color: #1967D2;\n",
              "      --hover-bg-color: #E2EBFA;\n",
              "      --hover-fill-color: #174EA6;\n",
              "      --disabled-fill-color: #AAA;\n",
              "      --disabled-bg-color: #DDD;\n",
              "  }\n",
              "\n",
              "  [theme=dark] .colab-df-quickchart {\n",
              "      --bg-color: #3B4455;\n",
              "      --fill-color: #D2E3FC;\n",
              "      --hover-bg-color: #434B5C;\n",
              "      --hover-fill-color: #FFFFFF;\n",
              "      --disabled-bg-color: #3B4455;\n",
              "      --disabled-fill-color: #666;\n",
              "  }\n",
              "\n",
              "  .colab-df-quickchart {\n",
              "    background-color: var(--bg-color);\n",
              "    border: none;\n",
              "    border-radius: 50%;\n",
              "    cursor: pointer;\n",
              "    display: none;\n",
              "    fill: var(--fill-color);\n",
              "    height: 32px;\n",
              "    padding: 0;\n",
              "    width: 32px;\n",
              "  }\n",
              "\n",
              "  .colab-df-quickchart:hover {\n",
              "    background-color: var(--hover-bg-color);\n",
              "    box-shadow: 0 1px 2px rgba(60, 64, 67, 0.3), 0 1px 3px 1px rgba(60, 64, 67, 0.15);\n",
              "    fill: var(--button-hover-fill-color);\n",
              "  }\n",
              "\n",
              "  .colab-df-quickchart-complete:disabled,\n",
              "  .colab-df-quickchart-complete:disabled:hover {\n",
              "    background-color: var(--disabled-bg-color);\n",
              "    fill: var(--disabled-fill-color);\n",
              "    box-shadow: none;\n",
              "  }\n",
              "\n",
              "  .colab-df-spinner {\n",
              "    border: 2px solid var(--fill-color);\n",
              "    border-color: transparent;\n",
              "    border-bottom-color: var(--fill-color);\n",
              "    animation:\n",
              "      spin 1s steps(1) infinite;\n",
              "  }\n",
              "\n",
              "  @keyframes spin {\n",
              "    0% {\n",
              "      border-color: transparent;\n",
              "      border-bottom-color: var(--fill-color);\n",
              "      border-left-color: var(--fill-color);\n",
              "    }\n",
              "    20% {\n",
              "      border-color: transparent;\n",
              "      border-left-color: var(--fill-color);\n",
              "      border-top-color: var(--fill-color);\n",
              "    }\n",
              "    30% {\n",
              "      border-color: transparent;\n",
              "      border-left-color: var(--fill-color);\n",
              "      border-top-color: var(--fill-color);\n",
              "      border-right-color: var(--fill-color);\n",
              "    }\n",
              "    40% {\n",
              "      border-color: transparent;\n",
              "      border-right-color: var(--fill-color);\n",
              "      border-top-color: var(--fill-color);\n",
              "    }\n",
              "    60% {\n",
              "      border-color: transparent;\n",
              "      border-right-color: var(--fill-color);\n",
              "    }\n",
              "    80% {\n",
              "      border-color: transparent;\n",
              "      border-right-color: var(--fill-color);\n",
              "      border-bottom-color: var(--fill-color);\n",
              "    }\n",
              "    90% {\n",
              "      border-color: transparent;\n",
              "      border-bottom-color: var(--fill-color);\n",
              "    }\n",
              "  }\n",
              "</style>\n",
              "\n",
              "  <script>\n",
              "    async function quickchart(key) {\n",
              "      const quickchartButtonEl =\n",
              "        document.querySelector('#' + key + ' button');\n",
              "      quickchartButtonEl.disabled = true;  // To prevent multiple clicks.\n",
              "      quickchartButtonEl.classList.add('colab-df-spinner');\n",
              "      try {\n",
              "        const charts = await google.colab.kernel.invokeFunction(\n",
              "            'suggestCharts', [key], {});\n",
              "      } catch (error) {\n",
              "        console.error('Error during call to suggestCharts:', error);\n",
              "      }\n",
              "      quickchartButtonEl.classList.remove('colab-df-spinner');\n",
              "      quickchartButtonEl.classList.add('colab-df-quickchart-complete');\n",
              "    }\n",
              "    (() => {\n",
              "      let quickchartButtonEl =\n",
              "        document.querySelector('#df-9cdf91a3-4ef2-40eb-9a3c-1e337c5658a7 button');\n",
              "      quickchartButtonEl.style.display =\n",
              "        google.colab.kernel.accessAllowed ? 'block' : 'none';\n",
              "    })();\n",
              "  </script>\n",
              "</div>\n",
              "\n",
              "    </div>\n",
              "  </div>\n"
            ],
            "application/vnd.google.colaboratory.intrinsic+json": {
              "type": "dataframe",
              "variable_name": "pubmed_data",
              "summary": "{\n  \"name\": \"pubmed_data\",\n  \"rows\": 9197,\n  \"fields\": [\n    {\n      \"column\": \"title\",\n      \"properties\": {\n        \"dtype\": \"string\",\n        \"num_unique_values\": 9194,\n        \"samples\": [\n          \"Mostly heterosexual and mostly gay/lesbian: evidence for new sexual orientation identities.\",\n          \"Desmopressin 120 mcg, 180 mcg, 240 mcg: The right treatment for the right patient.\",\n          \"Clinical presentation and natural history of chronic persistent hepatitis. A multicentre retrospective study on 1197 cases.\"\n        ],\n        \"semantic_type\": \"\",\n        \"description\": \"\"\n      }\n    },\n    {\n      \"column\": \"abstracttext\",\n      \"properties\": {\n        \"dtype\": \"string\",\n        \"num_unique_values\": 9194,\n        \"samples\": [\n          \"A sample of 1784 individual responded to an online survey advertised on the Facebook social networking website We explored the sexual orientation continuum by focusing on three component selfreported sexual orientation identity sexual attraction and sexual partner Results supported a 5category classification of identity heterosexual mostly heterosexual bisexual mostly gaylesbian gaylesbian in that two added identity label mostly heterosexual and mostly gaylesbian were frequently chosen by participant andor showed unique pattern of attraction and partner distinct from their adjacent identity heterosexual and bisexual and bisexual and gaylesbian respectively Those who reported an exclusive label heterosexual gaylesbian were not necessarily exclusive in other component a significant minority of heterosexual and the majority of gayslesbians reported some attraction andor partner toward their nonpreferred sex The five identity group differed in attraction and partner in a manner consistent with a continuous rather than a categorical distribution of sexual orientation Findings also supported a sexual orientation continuum a consisting of two rather than one distinct dimension same and othersex sexuality Having more samesex sexuality did not necessarily imply having less othersex sexuality and vice versa More men than woman were at the exclusive end of the continuum however men were not bimodally distributed in that a significant minority reported nonexclusivity in their sexuality\",\n          \"BACKGROUND The firstline drug therapy for patient with nocturnal enuresis NE associated with nocturnal polyuria and normal bladder function is desmopressin dDAVPOBJECTIVE To evaluate if increasing dose of oral desmopressin lyophilisate MELT can improve response rate to dDAVP and is useful in enuretic childrenMATERIALS AND METHODS We enrolled a total of 260 child all diagnosed with NE Enuretic child were treated with increasing MELT at a dose of 120 180 and 240 mcg a dayRESULTS We included in our study a total of 237 child 164 male 692 and 73 female 308 aged between 5 and 18 year mean age 1032 \\u00b1 252 year Of the 237 patient enrolled in the study and treated with MELT 120 mcg a full response wa achieved in 135 569 A partial response wa achieved in 21 89 patient therefore the dose wa increased up to 180 mcg with further improving symptom 143 or full response 95 and up to 240 mcg without usefulnessCONCLUSIONS MELT at the dose of 120 mcg resulted efficacy and safety the increased dose up to 180 mcg resulted poorly efficacy finally the further increase up to 240 mcg did not improve the symptom with the increased risk of side effect\",\n          \"To obtain data on the clinical presentation and the course of the disease of biopsyproven chronic persistent hepatitis CPH we coordinated a multicentre retrospective study on 1197 patient observed in 16 liver unit throughout Italy from 1975 to 1985 Most patient were asymptomatic and CPH wa often diagnosed either after a chance finding of liver enlargement or increased serum aminotransferase andor HBsAg antigenemia Of the 1197 patient 534 446 were HBsAgpositive and 663 554 were HBsAgnegative HBeAg wa tested in 356 of the 534 positive case and detected in 584 of them This percentage wa higher 80 in patient under 20 Hepatitis delta virus infection HDAg in liver tissue andor antiHD in serum wa detected in 28 147 of the 191 patient tested on presentation Liver function test showed mild hepatic involvement in both HBsAgpositive and negative case a pronounced derangement being observed only in patient with HDV infection A second liver biopsy wa performed in 212 patient 144 HBsAg positive and 68 HBsAg negative and the outcome of the disease wa evaluated only in these 212 patient Of the 144 HBsAgpositive case followedup from one to ten year median 4 year 47 recovered 70 remained unchanged and 27 developed chronic active hepatitis or cirrhosis Clearance of HBsAg wa uncommon even in patient who recovered Being under 15 year of age favourably affected the course of the disease while HDV infection wa correlated to an unfavourable outcome Among those patient who were HBeAg positive on presentation and who underwent a second affect the outcome Of the 68 HBsAgnegative clearly affect the outcomeABSTRACT TRUNCATED AT 250 WORDS\"\n        ],\n        \"semantic_type\": \"\",\n        \"description\": \"\"\n      }\n    },\n    {\n      \"column\": \"meshmajor\",\n      \"properties\": {\n        \"dtype\": \"string\",\n        \"num_unique_values\": 9193,\n        \"samples\": [\n          \"['Bacterial Proteins', 'Escherichia coli', 'Glyoxylates', 'Isocitrate Dehydrogenase', 'Mutation', 'Phosphorylation']\",\n          \"['Administration, Oral', 'Adolescent', 'Child', 'Child, Preschool', 'Deamino Arginine Vasopressin', 'Dose-Response Relationship, Drug', 'Female', 'Humans', 'Male', 'Nocturnal Enuresis', 'Renal Agents', 'Treatment Outcome']\",\n          \"['Aged', 'Arterial Occlusive Diseases', 'Arteriosclerosis', 'Cerebral Angiography', 'Cerebral Arteries', 'Cerebrovascular Disorders', 'Constriction, Pathologic', 'Female', 'Humans', 'Intracranial Embolism and Thrombosis', 'Ischemic Attack, Transient']\"\n        ],\n        \"semantic_type\": \"\",\n        \"description\": \"\"\n      }\n    },\n    {\n      \"column\": \"pmid\",\n      \"properties\": {\n        \"dtype\": \"number\",\n        \"std\": 9393699,\n        \"min\": 506,\n        \"max\": 33211903,\n        \"num_unique_values\": 9194,\n        \"samples\": [\n          22327566,\n          29974730,\n          1742503\n        ],\n        \"semantic_type\": \"\",\n        \"description\": \"\"\n      }\n    },\n    {\n      \"column\": \"meshid\",\n      \"properties\": {\n        \"dtype\": \"string\",\n        \"num_unique_values\": 9115,\n        \"samples\": [\n          \"[['B01.050'], ['E01.370.350.700.070'], ['E01.370.388.250.070', 'E04.502.250.070', 'E04.555.113'], ['B01.050.150.900.649.313.750.250.216.200'], ['A13.395'], ['A02.835.232.087.090.400'], ['A02.835.583'], ['E01.370.350.350.810', 'E01.370.350.600.350.700.810', 'E01.370.350.700.700.810', 'E01.370.350.700.810.810', 'E01.370.350.825.810.810'], ['A02.835.232.087.090.850']]\",\n          \"[['D02.241.081.844.107', 'D02.241.511.902.107', 'D09.811.100'], ['D01.625.100', 'D02.159'], ['D01.248.497.158.291', 'D01.625.400.100'], ['D05.500.562.374', 'D08.811.600.250.687', 'D08.811.682.285', 'D12.776.157.530.450.250.875.304', 'D12.776.543.277.687', 'D12.776.543.585.450.250.875.484'], ['D27.720.470.480'], ['G02.700', 'G03.295.531'], ['E05.196.867'], ['D01.248.497.158.874', 'D01.875.350.850', 'D02.886.520'], ['D02.092.146.651.900', 'D02.092.782.258.651.900']]\",\n          \"[['B01.050'], ['B01.050.150.900.649.313.500.380.271'], ['A11.284.149'], ['D04.210.500.105.225', 'D04.210.500.221.430'], ['D04.210.500.155.580.130.500.236', 'D09.408.180.261.236'], ['G02.111.570.685', 'G02.607.445'], ['G01.358.500.505.650', 'G01.590.540', 'G01.750.250.650', 'G01.750.770.578'], ['G02.740.685'], ['D23.767.930'], ['D12.776.543.750.695.955', 'D23.767.930.750.500.500'], ['A08.675.650.850.625.670.375.500', 'A08.675.650.850.625.670.650.650', 'A08.675.650.915.937.670.375.500', 'A08.675.650.915.937.670.650.650', 'A08.800.950.937.670.375.500', 'A08.800.950.937.670.650.650', 'A09.371.729.831.625.670.375.500', 'A09.371.729.831.625.670.650.650', 'A11.671.650.850.625.670.375.500', 'A11.671.650.850.625.670.650.650', 'A11.671.650.915.937.670.375.500', 'A11.671.650.915.937.670.650.650'], ['G02.805'], ['E05.196.712.726', 'E05.196.867.826']]\"\n        ],\n        \"semantic_type\": \"\",\n        \"description\": \"\"\n      }\n    },\n    {\n      \"column\": \"meshroot\",\n      \"properties\": {\n        \"dtype\": \"string\",\n        \"num_unique_values\": 6508,\n        \"samples\": [\n          \"['Named Groups [M]', 'Geographicals [Z]', 'Chemicals and Drugs [D]', 'Phenomena and Processes [G]', 'Technology, Industry, and Agriculture [J]', 'Psychiatry and Psychology [F]', 'Anthropology, Education, Sociology, and Social Phenomena [I]', 'Health Care [N]', 'Organisms [B]', 'Information Science [L]']\",\n          \"['Chemicals and Drugs [D]', 'Geographicals [Z]', 'Health Care [N]', 'Diseases [C]', 'Organisms [B]', 'Analytical, Diagnostic and Therapeutic Techniques, and Equipment [E]', 'Information Science [L]']\",\n          \"['Named Groups [M]', 'Chemicals and Drugs [D]', 'Analytical, Diagnostic and Therapeutic Techniques, and Equipment [E]', 'Diseases [C]', 'Organisms [B]', 'Anthropology, Education, Sociology, and Social Phenomena [I]', 'Humanities [K]', 'Health Care [N]']\"\n        ],\n        \"semantic_type\": \"\",\n        \"description\": \"\"\n      }\n    },\n    {\n      \"column\": \"abstracttext_length\",\n      \"properties\": {\n        \"dtype\": \"number\",\n        \"std\": 428,\n        \"min\": 201,\n        \"max\": 1999,\n        \"num_unique_values\": 1722,\n        \"samples\": [\n          1425,\n          1507,\n          775\n        ],\n        \"semantic_type\": \"\",\n        \"description\": \"\"\n      }\n    },\n    {\n      \"column\": \"is_diseases\",\n      \"properties\": {\n        \"dtype\": \"boolean\",\n        \"num_unique_values\": 2,\n        \"samples\": [\n          false,\n          true\n        ],\n        \"semantic_type\": \"\",\n        \"description\": \"\"\n      }\n    }\n  ]\n}"
            }
          },
          "metadata": {},
          "execution_count": 580
        }
      ]
    },
    {
      "cell_type": "markdown",
      "source": [
        "# Converting the data into vectors"
      ],
      "metadata": {
        "id": "zUsqwqe_V-0m"
      }
    },
    {
      "cell_type": "markdown",
      "source": [
        "Count vectorizer"
      ],
      "metadata": {
        "id": "EqL1-kNxWCY6"
      }
    },
    {
      "cell_type": "code",
      "source": [
        "vectorizer = CountVectorizer(lowercase = True, stop_words='english', max_features= 2000)\n",
        "count_vectors = vectorizer.fit_transform(pubmed_data.abstracttext)"
      ],
      "metadata": {
        "id": "ArsA9NJ3V9nY"
      },
      "execution_count": null,
      "outputs": []
    },
    {
      "cell_type": "code",
      "source": [
        "count_vectors.toarray()"
      ],
      "metadata": {
        "colab": {
          "base_uri": "https://localhost:8080/"
        },
        "id": "1yHrsoyOWJxH",
        "outputId": "4f20dca2-e504-4f7c-a170-d9f2226e3bb9"
      },
      "execution_count": null,
      "outputs": [
        {
          "output_type": "execute_result",
          "data": {
            "text/plain": [
              "array([[0, 0, 0, ..., 0, 0, 0],\n",
              "       [3, 0, 0, ..., 0, 0, 0],\n",
              "       [0, 0, 0, ..., 0, 0, 0],\n",
              "       ...,\n",
              "       [0, 0, 0, ..., 0, 0, 0],\n",
              "       [0, 0, 0, ..., 0, 0, 0],\n",
              "       [0, 0, 0, ..., 0, 0, 0]])"
            ]
          },
          "metadata": {},
          "execution_count": 582
        }
      ]
    },
    {
      "cell_type": "markdown",
      "source": [
        "TFIDF vectorizer"
      ],
      "metadata": {
        "id": "U1v4OfvRWN12"
      }
    },
    {
      "cell_type": "code",
      "source": [
        "TFIDF_vectorizer = TfidfVectorizer(lowercase = True, stop_words='english', max_features = 2000)\n",
        "tfidf_vectors = TFIDF_vectorizer.fit_transform(pubmed_data.abstracttext)"
      ],
      "metadata": {
        "id": "n-mg_zoLWONw"
      },
      "execution_count": null,
      "outputs": []
    },
    {
      "cell_type": "code",
      "source": [
        "tfidf_vectors.toarray()"
      ],
      "metadata": {
        "colab": {
          "base_uri": "https://localhost:8080/"
        },
        "id": "MC3VDVwxWT2r",
        "outputId": "221768c8-76dd-40fa-8156-d2e3f3178e11"
      },
      "execution_count": null,
      "outputs": [
        {
          "output_type": "execute_result",
          "data": {
            "text/plain": [
              "array([[0.        , 0.        , 0.        , ..., 0.        , 0.        ,\n",
              "        0.        ],\n",
              "       [0.30402656, 0.        , 0.        , ..., 0.        , 0.        ,\n",
              "        0.        ],\n",
              "       [0.        , 0.        , 0.        , ..., 0.        , 0.        ,\n",
              "        0.        ],\n",
              "       ...,\n",
              "       [0.        , 0.        , 0.        , ..., 0.        , 0.        ,\n",
              "        0.        ],\n",
              "       [0.        , 0.        , 0.        , ..., 0.        , 0.        ,\n",
              "        0.        ],\n",
              "       [0.        , 0.        , 0.        , ..., 0.        , 0.        ,\n",
              "        0.        ]])"
            ]
          },
          "metadata": {},
          "execution_count": 584
        }
      ]
    },
    {
      "cell_type": "markdown",
      "source": [
        "# Modeling"
      ],
      "metadata": {
        "id": "qRoM52m1WU7P"
      }
    },
    {
      "cell_type": "markdown",
      "source": [
        "Split to Train and Test"
      ],
      "metadata": {
        "id": "JG3r7BJJWYpj"
      }
    },
    {
      "cell_type": "code",
      "source": [
        "X_count_train, X_count_test, y_count_train, y_count_test = train_test_split(count_vectors, list(pubmed_data.is_diseases), test_size=0.2, random_state=42)"
      ],
      "metadata": {
        "id": "ed3Lu7NdWWcn"
      },
      "execution_count": null,
      "outputs": []
    },
    {
      "cell_type": "code",
      "source": [
        "X_tfidf_train, X_tfidf_test, y_tfidf_train, y_tfidf_test = train_test_split(tfidf_vectors, list(pubmed_data.is_diseases), test_size=0.2, random_state=42)"
      ],
      "metadata": {
        "id": "9kXQLORzWcCa"
      },
      "execution_count": null,
      "outputs": []
    },
    {
      "cell_type": "markdown",
      "source": [
        "Multinomial naive bayes"
      ],
      "metadata": {
        "id": "sIUJinybWlEg"
      }
    },
    {
      "cell_type": "code",
      "source": [
        "model = MultinomialNB()\n",
        "model.fit(X_count_train, y_count_train)\n",
        "score_train = model.score(X_count_train, y_count_train)\n",
        "score_test = model.score(X_count_test, y_count_test)\n",
        "print(\"\\nTrain set score:\", score_train)\n",
        "print(\"Test set score:\", score_test)"
      ],
      "metadata": {
        "colab": {
          "base_uri": "https://localhost:8080/"
        },
        "id": "5nPcNi4lWlbC",
        "outputId": "faedbada-a614-4464-9149-ae1be1bbe7eb"
      },
      "execution_count": null,
      "outputs": [
        {
          "output_type": "stream",
          "name": "stdout",
          "text": [
            "\n",
            "Train set score: 0.8276471387793938\n",
            "Test set score: 0.8222826086956522\n"
          ]
        }
      ]
    },
    {
      "cell_type": "code",
      "source": [
        "y_pred = model.predict(X_count_test)"
      ],
      "metadata": {
        "id": "XIrUoSf6Wo7b"
      },
      "execution_count": null,
      "outputs": []
    },
    {
      "cell_type": "markdown",
      "source": [
        "Decision tree"
      ],
      "metadata": {
        "id": "lgST-vsxWrF5"
      }
    },
    {
      "cell_type": "code",
      "source": [
        "dt_model = DecisionTreeClassifier(max_depth=15, random_state=0)\n",
        "dt_model.fit(X_tfidf_train, y_tfidf_train)\n",
        "score_train = dt_model.score(X_tfidf_train, y_tfidf_train)\n",
        "score_test = dt_model.score(X_tfidf_test, y_tfidf_test)\n",
        "print(\"\\nTrain set score:\", score_train)\n",
        "print(\"Test set score:\", score_test)"
      ],
      "metadata": {
        "colab": {
          "base_uri": "https://localhost:8080/"
        },
        "id": "brDPZ3jPWuI3",
        "outputId": "bfb288e8-d0d7-42a9-8a1b-301b88878343"
      },
      "execution_count": null,
      "outputs": [
        {
          "output_type": "stream",
          "name": "stdout",
          "text": [
            "\n",
            "Train set score: 0.8731820035340492\n",
            "Test set score: 0.7940217391304348\n"
          ]
        }
      ]
    },
    {
      "cell_type": "code",
      "source": [
        "y_dt_pred = dt_model.predict(X_tfidf_test)"
      ],
      "metadata": {
        "id": "EjKeRxPcWwps"
      },
      "execution_count": null,
      "outputs": []
    },
    {
      "cell_type": "markdown",
      "source": [
        "# Evaluating"
      ],
      "metadata": {
        "id": "eI25WuQjXcDp"
      }
    },
    {
      "cell_type": "markdown",
      "source": [
        "Count vectorizer"
      ],
      "metadata": {
        "id": "JRW1xbNgXmpg"
      }
    },
    {
      "cell_type": "code",
      "source": [
        "confusion_matrix(y_count_test, y_pred)"
      ],
      "metadata": {
        "colab": {
          "base_uri": "https://localhost:8080/"
        },
        "id": "EE5_ZlLnXekd",
        "outputId": "666d0407-c827-486e-9030-e2f61ffc7694"
      },
      "execution_count": null,
      "outputs": [
        {
          "output_type": "execute_result",
          "data": {
            "text/plain": [
              "array([[749, 141],\n",
              "       [186, 764]])"
            ]
          },
          "metadata": {},
          "execution_count": 591
        }
      ]
    },
    {
      "cell_type": "code",
      "source": [
        "print(classification_report(y_count_test, y_pred))"
      ],
      "metadata": {
        "colab": {
          "base_uri": "https://localhost:8080/"
        },
        "id": "DdhJCl--XgKx",
        "outputId": "32f42fc2-0737-4f46-fe2a-95a4aae4309a"
      },
      "execution_count": null,
      "outputs": [
        {
          "output_type": "stream",
          "name": "stdout",
          "text": [
            "              precision    recall  f1-score   support\n",
            "\n",
            "       False       0.80      0.84      0.82       890\n",
            "        True       0.84      0.80      0.82       950\n",
            "\n",
            "    accuracy                           0.82      1840\n",
            "   macro avg       0.82      0.82      0.82      1840\n",
            "weighted avg       0.82      0.82      0.82      1840\n",
            "\n"
          ]
        }
      ]
    },
    {
      "cell_type": "markdown",
      "source": [
        "TFIDF vectorizer"
      ],
      "metadata": {
        "id": "pvy0nkXYXpaA"
      }
    },
    {
      "cell_type": "code",
      "source": [
        "confusion_matrix(y_tfidf_test, y_dt_pred)"
      ],
      "metadata": {
        "colab": {
          "base_uri": "https://localhost:8080/"
        },
        "id": "cCtaf28QXpqW",
        "outputId": "7653cfee-d536-4a5c-dfff-868a24f64e08"
      },
      "execution_count": null,
      "outputs": [
        {
          "output_type": "execute_result",
          "data": {
            "text/plain": [
              "array([[766, 124],\n",
              "       [255, 695]])"
            ]
          },
          "metadata": {},
          "execution_count": 593
        }
      ]
    },
    {
      "cell_type": "code",
      "source": [
        "print(classification_report(y_tfidf_test, y_dt_pred))"
      ],
      "metadata": {
        "colab": {
          "base_uri": "https://localhost:8080/"
        },
        "id": "OBTgX7y7Xr1d",
        "outputId": "2f838818-67d1-415a-a843-67f660de5459"
      },
      "execution_count": null,
      "outputs": [
        {
          "output_type": "stream",
          "name": "stdout",
          "text": [
            "              precision    recall  f1-score   support\n",
            "\n",
            "       False       0.75      0.86      0.80       890\n",
            "        True       0.85      0.73      0.79       950\n",
            "\n",
            "    accuracy                           0.79      1840\n",
            "   macro avg       0.80      0.80      0.79      1840\n",
            "weighted avg       0.80      0.79      0.79      1840\n",
            "\n"
          ]
        }
      ]
    },
    {
      "cell_type": "markdown",
      "source": [
        "# Interface"
      ],
      "metadata": {
        "id": "C7SxNJtlXtuG"
      }
    },
    {
      "cell_type": "code",
      "source": [
        "unseen_data"
      ],
      "metadata": {
        "colab": {
          "base_uri": "https://localhost:8080/",
          "height": 973
        },
        "id": "A_SH7J1uXvr2",
        "outputId": "0ad50d5b-9787-41ea-a4f5-72fbcff49a31"
      },
      "execution_count": null,
      "outputs": [
        {
          "output_type": "execute_result",
          "data": {
            "text/plain": [
              "                                                  title  \\\n",
              "9990  Fully intact contact heat evoked potentials in...   \n",
              "9991  Chemical studies on the structure of mucopepti...   \n",
              "9992  Three-dimensional CT modeling versus tradition...   \n",
              "9993  Early pregnancy testing and its relationship t...   \n",
              "9994  Macrophages as delivery vehicles for anticance...   \n",
              "9995  Smoking Lung Cancer Patients and Tobacco Cessa...   \n",
              "9996  Lipid and lipoprotein parameters for detection...   \n",
              "9997  Preparation of folate-modified pullulan acetat...   \n",
              "9998  Fashion advertisements: a comparison of viewer...   \n",
              "9999        [Hypotension in Austria (author's transl)].   \n",
              "\n",
              "                                           abstracttext  \\\n",
              "9990  Amyotrophic lateral sclerosis (ALS) is typical...   \n",
              "9991  Mucopeptides isolated from Streptococcus bovis...   \n",
              "9992  Recently, the authors have used the computer-g...   \n",
              "9993  A total of 487 Standardbred and Thoroughbred m...   \n",
              "9994  The delivery of anticancer agents via passive ...   \n",
              "9995  Lung cancer is the most preventable neoplastic...   \n",
              "9996  BACKGROUND: Familial hypercholesterolaemia (FH...   \n",
              "9997  The purpose of this work was to develop a nove...   \n",
              "9998  The perceptual and affective responses of 44 w...   \n",
              "9999  A representative group of the Austrian populat...   \n",
              "\n",
              "                                              meshmajor      pmid  \\\n",
              "9990  ['Adult', 'Afferent Pathways', 'Aged', 'Amyotr...  19260053   \n",
              "9991  ['Alanine', 'Cell Wall', 'Chromatography, Ion ...   5802603   \n",
              "9992  ['Acetabulum', 'Adult', 'Fractures, Bone', 'Hu...  11813946   \n",
              "9993  ['Abortion, Veterinary', 'Animals', 'Australia...   1060828   \n",
              "9994  ['Animals', 'Antigen-Presenting Cells', 'Antin...  30909858   \n",
              "9995  ['Adolescent', 'Adult', 'Age Distribution', 'A...  26398407   \n",
              "9996  ['Achilles Tendon', 'Adolescent', 'Apolipoprot...  29602595   \n",
              "9997  ['Acetylation', 'Antibiotics, Antineoplastic',...  22747075   \n",
              "9998  ['Adult', 'Advertising', 'Affect', 'Aged', 'Ar...   1484770   \n",
              "9999  ['Adolescent', 'Adult', 'Age Factors', 'Aged',...   7257424   \n",
              "\n",
              "                                                 meshid  \\\n",
              "9990  [['M01.060.116'], ['A08.612.220'], ['M01.060.1...   \n",
              "9991  [['D12.125.042'], ['A11.284.183'], ['E05.196.1...   \n",
              "9992  [['A02.835.232.043.825.108'], ['M01.060.116'],...   \n",
              "9993  [['C13.703.039.422', 'C22.021'], ['B01.050'], ...   \n",
              "9994  [['B01.050'], ['A11.066', 'A15.382.066'], ['D2...   \n",
              "9995  [['M01.060.057'], ['M01.060.116'], ['I01.240.0...   \n",
              "9996  [['A02.880.176'], ['M01.060.057'], ['D10.532.0...   \n",
              "9997  [['G02.111.012.052', 'G02.607.063.052', 'G03.0...   \n",
              "9998  [['M01.060.116'], ['J01.219.687.274', 'L01.143...   \n",
              "9999  [['M01.060.057'], ['M01.060.116'], ['N05.715.3...   \n",
              "\n",
              "                                               meshroot  \n",
              "9990  ['Named Groups [M]', 'Anatomy [A]', 'Diseases ...  \n",
              "9991  ['Chemicals and Drugs [D]', 'Anatomy [A]', 'An...  \n",
              "9992  ['Anatomy [A]', 'Named Groups [M]', 'Diseases ...  \n",
              "9993  ['Diseases [C]', 'Organisms [B]', 'Geographica...  \n",
              "9994  ['Organisms [B]', 'Anatomy [A]', 'Chemicals an...  \n",
              "9995  ['Named Groups [M]', 'Anthropology, Education,...  \n",
              "9996  ['Anatomy [A]', 'Named Groups [M]', 'Chemicals...  \n",
              "9997  ['Phenomena and Processes [G]', 'Chemicals and...  \n",
              "9998  ['Named Groups [M]', 'Technology, Industry, an...  \n",
              "9999  ['Named Groups [M]', 'Health Care [N]', 'Psych...  "
            ],
            "text/html": [
              "\n",
              "  <div id=\"df-c5c9fe5b-10b8-4856-b0b0-99eced7714b4\" class=\"colab-df-container\">\n",
              "    <div>\n",
              "<style scoped>\n",
              "    .dataframe tbody tr th:only-of-type {\n",
              "        vertical-align: middle;\n",
              "    }\n",
              "\n",
              "    .dataframe tbody tr th {\n",
              "        vertical-align: top;\n",
              "    }\n",
              "\n",
              "    .dataframe thead th {\n",
              "        text-align: right;\n",
              "    }\n",
              "</style>\n",
              "<table border=\"1\" class=\"dataframe\">\n",
              "  <thead>\n",
              "    <tr style=\"text-align: right;\">\n",
              "      <th></th>\n",
              "      <th>title</th>\n",
              "      <th>abstracttext</th>\n",
              "      <th>meshmajor</th>\n",
              "      <th>pmid</th>\n",
              "      <th>meshid</th>\n",
              "      <th>meshroot</th>\n",
              "    </tr>\n",
              "  </thead>\n",
              "  <tbody>\n",
              "    <tr>\n",
              "      <th>9990</th>\n",
              "      <td>Fully intact contact heat evoked potentials in...</td>\n",
              "      <td>Amyotrophic lateral sclerosis (ALS) is typical...</td>\n",
              "      <td>['Adult', 'Afferent Pathways', 'Aged', 'Amyotr...</td>\n",
              "      <td>19260053</td>\n",
              "      <td>[['M01.060.116'], ['A08.612.220'], ['M01.060.1...</td>\n",
              "      <td>['Named Groups [M]', 'Anatomy [A]', 'Diseases ...</td>\n",
              "    </tr>\n",
              "    <tr>\n",
              "      <th>9991</th>\n",
              "      <td>Chemical studies on the structure of mucopepti...</td>\n",
              "      <td>Mucopeptides isolated from Streptococcus bovis...</td>\n",
              "      <td>['Alanine', 'Cell Wall', 'Chromatography, Ion ...</td>\n",
              "      <td>5802603</td>\n",
              "      <td>[['D12.125.042'], ['A11.284.183'], ['E05.196.1...</td>\n",
              "      <td>['Chemicals and Drugs [D]', 'Anatomy [A]', 'An...</td>\n",
              "    </tr>\n",
              "    <tr>\n",
              "      <th>9992</th>\n",
              "      <td>Three-dimensional CT modeling versus tradition...</td>\n",
              "      <td>Recently, the authors have used the computer-g...</td>\n",
              "      <td>['Acetabulum', 'Adult', 'Fractures, Bone', 'Hu...</td>\n",
              "      <td>11813946</td>\n",
              "      <td>[['A02.835.232.043.825.108'], ['M01.060.116'],...</td>\n",
              "      <td>['Anatomy [A]', 'Named Groups [M]', 'Diseases ...</td>\n",
              "    </tr>\n",
              "    <tr>\n",
              "      <th>9993</th>\n",
              "      <td>Early pregnancy testing and its relationship t...</td>\n",
              "      <td>A total of 487 Standardbred and Thoroughbred m...</td>\n",
              "      <td>['Abortion, Veterinary', 'Animals', 'Australia...</td>\n",
              "      <td>1060828</td>\n",
              "      <td>[['C13.703.039.422', 'C22.021'], ['B01.050'], ...</td>\n",
              "      <td>['Diseases [C]', 'Organisms [B]', 'Geographica...</td>\n",
              "    </tr>\n",
              "    <tr>\n",
              "      <th>9994</th>\n",
              "      <td>Macrophages as delivery vehicles for anticance...</td>\n",
              "      <td>The delivery of anticancer agents via passive ...</td>\n",
              "      <td>['Animals', 'Antigen-Presenting Cells', 'Antin...</td>\n",
              "      <td>30909858</td>\n",
              "      <td>[['B01.050'], ['A11.066', 'A15.382.066'], ['D2...</td>\n",
              "      <td>['Organisms [B]', 'Anatomy [A]', 'Chemicals an...</td>\n",
              "    </tr>\n",
              "    <tr>\n",
              "      <th>9995</th>\n",
              "      <td>Smoking Lung Cancer Patients and Tobacco Cessa...</td>\n",
              "      <td>Lung cancer is the most preventable neoplastic...</td>\n",
              "      <td>['Adolescent', 'Adult', 'Age Distribution', 'A...</td>\n",
              "      <td>26398407</td>\n",
              "      <td>[['M01.060.057'], ['M01.060.116'], ['I01.240.0...</td>\n",
              "      <td>['Named Groups [M]', 'Anthropology, Education,...</td>\n",
              "    </tr>\n",
              "    <tr>\n",
              "      <th>9996</th>\n",
              "      <td>Lipid and lipoprotein parameters for detection...</td>\n",
              "      <td>BACKGROUND: Familial hypercholesterolaemia (FH...</td>\n",
              "      <td>['Achilles Tendon', 'Adolescent', 'Apolipoprot...</td>\n",
              "      <td>29602595</td>\n",
              "      <td>[['A02.880.176'], ['M01.060.057'], ['D10.532.0...</td>\n",
              "      <td>['Anatomy [A]', 'Named Groups [M]', 'Chemicals...</td>\n",
              "    </tr>\n",
              "    <tr>\n",
              "      <th>9997</th>\n",
              "      <td>Preparation of folate-modified pullulan acetat...</td>\n",
              "      <td>The purpose of this work was to develop a nove...</td>\n",
              "      <td>['Acetylation', 'Antibiotics, Antineoplastic',...</td>\n",
              "      <td>22747075</td>\n",
              "      <td>[['G02.111.012.052', 'G02.607.063.052', 'G03.0...</td>\n",
              "      <td>['Phenomena and Processes [G]', 'Chemicals and...</td>\n",
              "    </tr>\n",
              "    <tr>\n",
              "      <th>9998</th>\n",
              "      <td>Fashion advertisements: a comparison of viewer...</td>\n",
              "      <td>The perceptual and affective responses of 44 w...</td>\n",
              "      <td>['Adult', 'Advertising', 'Affect', 'Aged', 'Ar...</td>\n",
              "      <td>1484770</td>\n",
              "      <td>[['M01.060.116'], ['J01.219.687.274', 'L01.143...</td>\n",
              "      <td>['Named Groups [M]', 'Technology, Industry, an...</td>\n",
              "    </tr>\n",
              "    <tr>\n",
              "      <th>9999</th>\n",
              "      <td>[Hypotension in Austria (author's transl)].</td>\n",
              "      <td>A representative group of the Austrian populat...</td>\n",
              "      <td>['Adolescent', 'Adult', 'Age Factors', 'Aged',...</td>\n",
              "      <td>7257424</td>\n",
              "      <td>[['M01.060.057'], ['M01.060.116'], ['N05.715.3...</td>\n",
              "      <td>['Named Groups [M]', 'Health Care [N]', 'Psych...</td>\n",
              "    </tr>\n",
              "  </tbody>\n",
              "</table>\n",
              "</div>\n",
              "    <div class=\"colab-df-buttons\">\n",
              "\n",
              "  <div class=\"colab-df-container\">\n",
              "    <button class=\"colab-df-convert\" onclick=\"convertToInteractive('df-c5c9fe5b-10b8-4856-b0b0-99eced7714b4')\"\n",
              "            title=\"Convert this dataframe to an interactive table.\"\n",
              "            style=\"display:none;\">\n",
              "\n",
              "  <svg xmlns=\"http://www.w3.org/2000/svg\" height=\"24px\" viewBox=\"0 -960 960 960\">\n",
              "    <path d=\"M120-120v-720h720v720H120Zm60-500h600v-160H180v160Zm220 220h160v-160H400v160Zm0 220h160v-160H400v160ZM180-400h160v-160H180v160Zm440 0h160v-160H620v160ZM180-180h160v-160H180v160Zm440 0h160v-160H620v160Z\"/>\n",
              "  </svg>\n",
              "    </button>\n",
              "\n",
              "  <style>\n",
              "    .colab-df-container {\n",
              "      display:flex;\n",
              "      gap: 12px;\n",
              "    }\n",
              "\n",
              "    .colab-df-convert {\n",
              "      background-color: #E8F0FE;\n",
              "      border: none;\n",
              "      border-radius: 50%;\n",
              "      cursor: pointer;\n",
              "      display: none;\n",
              "      fill: #1967D2;\n",
              "      height: 32px;\n",
              "      padding: 0 0 0 0;\n",
              "      width: 32px;\n",
              "    }\n",
              "\n",
              "    .colab-df-convert:hover {\n",
              "      background-color: #E2EBFA;\n",
              "      box-shadow: 0px 1px 2px rgba(60, 64, 67, 0.3), 0px 1px 3px 1px rgba(60, 64, 67, 0.15);\n",
              "      fill: #174EA6;\n",
              "    }\n",
              "\n",
              "    .colab-df-buttons div {\n",
              "      margin-bottom: 4px;\n",
              "    }\n",
              "\n",
              "    [theme=dark] .colab-df-convert {\n",
              "      background-color: #3B4455;\n",
              "      fill: #D2E3FC;\n",
              "    }\n",
              "\n",
              "    [theme=dark] .colab-df-convert:hover {\n",
              "      background-color: #434B5C;\n",
              "      box-shadow: 0px 1px 3px 1px rgba(0, 0, 0, 0.15);\n",
              "      filter: drop-shadow(0px 1px 2px rgba(0, 0, 0, 0.3));\n",
              "      fill: #FFFFFF;\n",
              "    }\n",
              "  </style>\n",
              "\n",
              "    <script>\n",
              "      const buttonEl =\n",
              "        document.querySelector('#df-c5c9fe5b-10b8-4856-b0b0-99eced7714b4 button.colab-df-convert');\n",
              "      buttonEl.style.display =\n",
              "        google.colab.kernel.accessAllowed ? 'block' : 'none';\n",
              "\n",
              "      async function convertToInteractive(key) {\n",
              "        const element = document.querySelector('#df-c5c9fe5b-10b8-4856-b0b0-99eced7714b4');\n",
              "        const dataTable =\n",
              "          await google.colab.kernel.invokeFunction('convertToInteractive',\n",
              "                                                    [key], {});\n",
              "        if (!dataTable) return;\n",
              "\n",
              "        const docLinkHtml = 'Like what you see? Visit the ' +\n",
              "          '<a target=\"_blank\" href=https://colab.research.google.com/notebooks/data_table.ipynb>data table notebook</a>'\n",
              "          + ' to learn more about interactive tables.';\n",
              "        element.innerHTML = '';\n",
              "        dataTable['output_type'] = 'display_data';\n",
              "        await google.colab.output.renderOutput(dataTable, element);\n",
              "        const docLink = document.createElement('div');\n",
              "        docLink.innerHTML = docLinkHtml;\n",
              "        element.appendChild(docLink);\n",
              "      }\n",
              "    </script>\n",
              "  </div>\n",
              "\n",
              "\n",
              "<div id=\"df-3b87a729-ea77-416a-8eb0-961a3a2d7153\">\n",
              "  <button class=\"colab-df-quickchart\" onclick=\"quickchart('df-3b87a729-ea77-416a-8eb0-961a3a2d7153')\"\n",
              "            title=\"Suggest charts\"\n",
              "            style=\"display:none;\">\n",
              "\n",
              "<svg xmlns=\"http://www.w3.org/2000/svg\" height=\"24px\"viewBox=\"0 0 24 24\"\n",
              "     width=\"24px\">\n",
              "    <g>\n",
              "        <path d=\"M19 3H5c-1.1 0-2 .9-2 2v14c0 1.1.9 2 2 2h14c1.1 0 2-.9 2-2V5c0-1.1-.9-2-2-2zM9 17H7v-7h2v7zm4 0h-2V7h2v10zm4 0h-2v-4h2v4z\"/>\n",
              "    </g>\n",
              "</svg>\n",
              "  </button>\n",
              "\n",
              "<style>\n",
              "  .colab-df-quickchart {\n",
              "      --bg-color: #E8F0FE;\n",
              "      --fill-color: #1967D2;\n",
              "      --hover-bg-color: #E2EBFA;\n",
              "      --hover-fill-color: #174EA6;\n",
              "      --disabled-fill-color: #AAA;\n",
              "      --disabled-bg-color: #DDD;\n",
              "  }\n",
              "\n",
              "  [theme=dark] .colab-df-quickchart {\n",
              "      --bg-color: #3B4455;\n",
              "      --fill-color: #D2E3FC;\n",
              "      --hover-bg-color: #434B5C;\n",
              "      --hover-fill-color: #FFFFFF;\n",
              "      --disabled-bg-color: #3B4455;\n",
              "      --disabled-fill-color: #666;\n",
              "  }\n",
              "\n",
              "  .colab-df-quickchart {\n",
              "    background-color: var(--bg-color);\n",
              "    border: none;\n",
              "    border-radius: 50%;\n",
              "    cursor: pointer;\n",
              "    display: none;\n",
              "    fill: var(--fill-color);\n",
              "    height: 32px;\n",
              "    padding: 0;\n",
              "    width: 32px;\n",
              "  }\n",
              "\n",
              "  .colab-df-quickchart:hover {\n",
              "    background-color: var(--hover-bg-color);\n",
              "    box-shadow: 0 1px 2px rgba(60, 64, 67, 0.3), 0 1px 3px 1px rgba(60, 64, 67, 0.15);\n",
              "    fill: var(--button-hover-fill-color);\n",
              "  }\n",
              "\n",
              "  .colab-df-quickchart-complete:disabled,\n",
              "  .colab-df-quickchart-complete:disabled:hover {\n",
              "    background-color: var(--disabled-bg-color);\n",
              "    fill: var(--disabled-fill-color);\n",
              "    box-shadow: none;\n",
              "  }\n",
              "\n",
              "  .colab-df-spinner {\n",
              "    border: 2px solid var(--fill-color);\n",
              "    border-color: transparent;\n",
              "    border-bottom-color: var(--fill-color);\n",
              "    animation:\n",
              "      spin 1s steps(1) infinite;\n",
              "  }\n",
              "\n",
              "  @keyframes spin {\n",
              "    0% {\n",
              "      border-color: transparent;\n",
              "      border-bottom-color: var(--fill-color);\n",
              "      border-left-color: var(--fill-color);\n",
              "    }\n",
              "    20% {\n",
              "      border-color: transparent;\n",
              "      border-left-color: var(--fill-color);\n",
              "      border-top-color: var(--fill-color);\n",
              "    }\n",
              "    30% {\n",
              "      border-color: transparent;\n",
              "      border-left-color: var(--fill-color);\n",
              "      border-top-color: var(--fill-color);\n",
              "      border-right-color: var(--fill-color);\n",
              "    }\n",
              "    40% {\n",
              "      border-color: transparent;\n",
              "      border-right-color: var(--fill-color);\n",
              "      border-top-color: var(--fill-color);\n",
              "    }\n",
              "    60% {\n",
              "      border-color: transparent;\n",
              "      border-right-color: var(--fill-color);\n",
              "    }\n",
              "    80% {\n",
              "      border-color: transparent;\n",
              "      border-right-color: var(--fill-color);\n",
              "      border-bottom-color: var(--fill-color);\n",
              "    }\n",
              "    90% {\n",
              "      border-color: transparent;\n",
              "      border-bottom-color: var(--fill-color);\n",
              "    }\n",
              "  }\n",
              "</style>\n",
              "\n",
              "  <script>\n",
              "    async function quickchart(key) {\n",
              "      const quickchartButtonEl =\n",
              "        document.querySelector('#' + key + ' button');\n",
              "      quickchartButtonEl.disabled = true;  // To prevent multiple clicks.\n",
              "      quickchartButtonEl.classList.add('colab-df-spinner');\n",
              "      try {\n",
              "        const charts = await google.colab.kernel.invokeFunction(\n",
              "            'suggestCharts', [key], {});\n",
              "      } catch (error) {\n",
              "        console.error('Error during call to suggestCharts:', error);\n",
              "      }\n",
              "      quickchartButtonEl.classList.remove('colab-df-spinner');\n",
              "      quickchartButtonEl.classList.add('colab-df-quickchart-complete');\n",
              "    }\n",
              "    (() => {\n",
              "      let quickchartButtonEl =\n",
              "        document.querySelector('#df-3b87a729-ea77-416a-8eb0-961a3a2d7153 button');\n",
              "      quickchartButtonEl.style.display =\n",
              "        google.colab.kernel.accessAllowed ? 'block' : 'none';\n",
              "    })();\n",
              "  </script>\n",
              "</div>\n",
              "\n",
              "  <div id=\"id_45b10276-602f-4287-9702-e0d8eb155fc3\">\n",
              "    <style>\n",
              "      .colab-df-generate {\n",
              "        background-color: #E8F0FE;\n",
              "        border: none;\n",
              "        border-radius: 50%;\n",
              "        cursor: pointer;\n",
              "        display: none;\n",
              "        fill: #1967D2;\n",
              "        height: 32px;\n",
              "        padding: 0 0 0 0;\n",
              "        width: 32px;\n",
              "      }\n",
              "\n",
              "      .colab-df-generate:hover {\n",
              "        background-color: #E2EBFA;\n",
              "        box-shadow: 0px 1px 2px rgba(60, 64, 67, 0.3), 0px 1px 3px 1px rgba(60, 64, 67, 0.15);\n",
              "        fill: #174EA6;\n",
              "      }\n",
              "\n",
              "      [theme=dark] .colab-df-generate {\n",
              "        background-color: #3B4455;\n",
              "        fill: #D2E3FC;\n",
              "      }\n",
              "\n",
              "      [theme=dark] .colab-df-generate:hover {\n",
              "        background-color: #434B5C;\n",
              "        box-shadow: 0px 1px 3px 1px rgba(0, 0, 0, 0.15);\n",
              "        filter: drop-shadow(0px 1px 2px rgba(0, 0, 0, 0.3));\n",
              "        fill: #FFFFFF;\n",
              "      }\n",
              "    </style>\n",
              "    <button class=\"colab-df-generate\" onclick=\"generateWithVariable('unseen_data')\"\n",
              "            title=\"Generate code using this dataframe.\"\n",
              "            style=\"display:none;\">\n",
              "\n",
              "  <svg xmlns=\"http://www.w3.org/2000/svg\" height=\"24px\"viewBox=\"0 0 24 24\"\n",
              "       width=\"24px\">\n",
              "    <path d=\"M7,19H8.4L18.45,9,17,7.55,7,17.6ZM5,21V16.75L18.45,3.32a2,2,0,0,1,2.83,0l1.4,1.43a1.91,1.91,0,0,1,.58,1.4,1.91,1.91,0,0,1-.58,1.4L9.25,21ZM18.45,9,17,7.55Zm-12,3A5.31,5.31,0,0,0,4.9,8.1,5.31,5.31,0,0,0,1,6.5,5.31,5.31,0,0,0,4.9,4.9,5.31,5.31,0,0,0,6.5,1,5.31,5.31,0,0,0,8.1,4.9,5.31,5.31,0,0,0,12,6.5,5.46,5.46,0,0,0,6.5,12Z\"/>\n",
              "  </svg>\n",
              "    </button>\n",
              "    <script>\n",
              "      (() => {\n",
              "      const buttonEl =\n",
              "        document.querySelector('#id_45b10276-602f-4287-9702-e0d8eb155fc3 button.colab-df-generate');\n",
              "      buttonEl.style.display =\n",
              "        google.colab.kernel.accessAllowed ? 'block' : 'none';\n",
              "\n",
              "      buttonEl.onclick = () => {\n",
              "        google.colab.notebook.generateWithVariable('unseen_data');\n",
              "      }\n",
              "      })();\n",
              "    </script>\n",
              "  </div>\n",
              "\n",
              "    </div>\n",
              "  </div>\n"
            ],
            "application/vnd.google.colaboratory.intrinsic+json": {
              "type": "dataframe",
              "variable_name": "unseen_data",
              "summary": "{\n  \"name\": \"unseen_data\",\n  \"rows\": 10,\n  \"fields\": [\n    {\n      \"column\": \"title\",\n      \"properties\": {\n        \"dtype\": \"string\",\n        \"num_unique_values\": 10,\n        \"samples\": [\n          \"Fashion advertisements: a comparison of viewers' perceptual and affective responses to illustrated and photographed stimuli.\",\n          \"Chemical studies on the structure of mucopeptide isolated from Streptococcus bovis.\",\n          \"Smoking Lung Cancer Patients and Tobacco Cessation - Is the Current Treatment in Germany Sufficient?\"\n        ],\n        \"semantic_type\": \"\",\n        \"description\": \"\"\n      }\n    },\n    {\n      \"column\": \"abstracttext\",\n      \"properties\": {\n        \"dtype\": \"string\",\n        \"num_unique_values\": 10,\n        \"samples\": [\n          \"The perceptual and affective responses of 44 women to actual illustrated and photographed fashion advertisements during focused interviews were explored. Content analysis methods identified categories of response; frequency of response categories for the two media were compared using Fisher's z tests. Significant differences in perceptual responses included greater visual interest created by the use of color in photographs, greater interest in layout and design features of the illustrations, and interest in characteristics of the models in the photographs. Affective response differences included greater preference for photographic advertisements and the garments in them. Contrary to suggestions from professionals in fashion advertising, no significant differences were found in viewers' perceptions of information about the products in the advertisements or perceptions of meaning and aesthetic response.\",\n          \"Mucopeptides isolated from Streptococcus bovis cell walls were found to be composed of alanine, glutamic acid, lysine, and threonine in a mole ratio of 3:1:1:1. A dipeptide, N(epsilon)-lysylthreonine, was isolated from S. bovis mucopeptide by ion-exchange chromatography. This finding suggests that threonine is associated with the bridge which cross-links adjacent tetrapeptides by connecting the epsilon-amino group of lysine of one tetrapeptide to the carboxyl group of d-alanine of another to form the mucopeptide matrix.\",\n          \"Lung cancer is the most preventable neoplastic disease for men and women. The incidence rate per year is 14.000 in Germany. Smoking is the main risk factor for the onset of lung cancer and for a share of 90% of cases, lung cancer is associated with smoking. Recent studies have shown that the time slot of diagnosing lung cancer is a teachable moment for tobacco cessation interventions. The therapy that was rated most effective was a combination of cognitive behavioral therapy and pharmacotherapy (e.\\u200ag. NRT, Bupropion, Varenicline). We examined the smoking status of all patients undergoing lung cancer surgery in 2011, 2012 and 2013 in this study. A retrospective semi structured interview via telephone was conducted regarding smoking habits and current quality of life. 131 patients (36.6% female, average age of 68.7 years) of an urban German hospital were included.Results showed a relapse rate of 22.3%, while 86.2% used to be highly addicted smokers; A multivariate analysis of covariance (MANCOVA) indicated a significant overall impact of smoking status on quality of life with a medium effect size, controlled for age, gender, living conditions, tumor stage, duration of smoking abstinence, type of cancer therapy, type of resection method, and the time period between the date of surgery and of the survey. Two thirds of all smokers did not see an association between their habit and their disease.So far motivation to quit and long term abstinence rates are not sufficiently established even among seriously sick patients in Germany; further initiatives should focus on new and more intense interventions and educational strategies.\"\n        ],\n        \"semantic_type\": \"\",\n        \"description\": \"\"\n      }\n    },\n    {\n      \"column\": \"meshmajor\",\n      \"properties\": {\n        \"dtype\": \"string\",\n        \"num_unique_values\": 10,\n        \"samples\": [\n          \"['Adult', 'Advertising', 'Affect', 'Aged', 'Art', 'Female', 'Humans', 'Middle Aged', 'Perception', 'Periodicals as Topic', 'Photography']\",\n          \"['Alanine', 'Cell Wall', 'Chromatography, Ion Exchange', 'Glucosamine', 'Glutamates', 'Lysine', 'Mucoproteins', 'Streptococcus', 'Threonine']\",\n          \"['Adolescent', 'Adult', 'Age Distribution', 'Aged', 'Comorbidity', 'Female', 'Germany', 'Health Care Surveys', 'Humans', 'Lung Neoplasms', 'Male', 'Middle Aged', 'Prevalence', 'Quality of Life', 'Retrospective Studies', 'Risk Factors', 'Sex Distribution', 'Smoking', 'Smoking Prevention', 'Tobacco Use Cessation', 'Treatment Outcome', 'Utilization Review', 'Young Adult']\"\n        ],\n        \"semantic_type\": \"\",\n        \"description\": \"\"\n      }\n    },\n    {\n      \"column\": \"pmid\",\n      \"properties\": {\n        \"dtype\": \"number\",\n        \"std\": 11557029,\n        \"min\": 1060828,\n        \"max\": 30909858,\n        \"num_unique_values\": 10,\n        \"samples\": [\n          1484770,\n          5802603,\n          26398407\n        ],\n        \"semantic_type\": \"\",\n        \"description\": \"\"\n      }\n    },\n    {\n      \"column\": \"meshid\",\n      \"properties\": {\n        \"dtype\": \"string\",\n        \"num_unique_values\": 10,\n        \"samples\": [\n          \"[['M01.060.116'], ['J01.219.687.274', 'L01.143.050'], ['F01.470.047'], ['M01.060.116.100'], ['K01.093'], ['B01.050.150.900.649.313.988.400.112.400.400'], ['M01.060.116.630'], ['F02.463.593'], ['L01.178.682.829.678'], ['E01.370.350.600', 'E05.712']]\",\n          \"[['D12.125.042'], ['A11.284.183'], ['E05.196.181.400.383'], ['D09.067.342.531'], ['D12.125.067.625', 'D12.125.119.409'], ['D12.125.068.555', 'D12.125.095.647', 'D12.125.142.497'], ['D12.776.395.560'], ['B03.353.750.737.872', 'B03.510.400.800.872', 'B03.510.550.737.872'], ['D12.125.142.815', 'D12.125.154.900']]\",\n          \"[['M01.060.057'], ['M01.060.116'], ['I01.240.050', 'N01.224.033', 'N06.850.505.400.050'], ['M01.060.116.100'], ['N05.715.350.225', 'N06.850.490.687'], ['Z01.542.315'], ['E05.318.308.980.344', 'N03.349.380.210', 'N05.425.210', 'N05.715.360.300.800.344', 'N06.850.520.308.980.344'], ['B01.050.150.900.649.313.988.400.112.400.400'], ['C04.588.894.797.520', 'C08.381.540', 'C08.785.520'], ['M01.060.116.630'], ['E05.318.308.985.525.750', 'N01.224.935.597.750', 'N06.850.505.400.975.525.750', 'N06.850.520.308.985.525.750'], ['I01.800', 'K01.752.400.750', 'N06.850.505.400.425.837'], ['E05.318.372.500.500.500', 'E05.318.372.500.750.750', 'N05.715.360.330.500.500.500', 'N05.715.360.330.500.750.825', 'N06.850.520.450.500.500.500', 'N06.850.520.450.500.750.825'], ['E05.318.740.600.800.725', 'N05.715.350.200.700', 'N05.715.360.750.625.700.700', 'N06.850.490.625.750', 'N06.850.520.830.600.800.725'], ['I01.240.800', 'N01.224.803', 'N06.850.505.400.850'], ['F01.145.805'], ['I02.233.332.812', 'N02.421.726.407.840'], ['F01.145.488.750'], ['E01.789.800', 'N04.761.559.590.800', 'N05.715.360.575.575.800'], ['N04.761.879', 'N05.700.900'], ['M01.060.116.815']]\"\n        ],\n        \"semantic_type\": \"\",\n        \"description\": \"\"\n      }\n    },\n    {\n      \"column\": \"meshroot\",\n      \"properties\": {\n        \"dtype\": \"string\",\n        \"num_unique_values\": 10,\n        \"samples\": [\n          \"['Named Groups [M]', 'Technology, Industry, and Agriculture [J]', 'Information Science [L]', 'Psychiatry and Psychology [F]', 'Humanities [K]', 'Organisms [B]', 'Analytical, Diagnostic and Therapeutic Techniques, and Equipment [E]']\",\n          \"['Chemicals and Drugs [D]', 'Anatomy [A]', 'Analytical, Diagnostic and Therapeutic Techniques, and Equipment [E]', 'Organisms [B]']\",\n          \"['Named Groups [M]', 'Anthropology, Education, Sociology, and Social Phenomena [I]', 'Health Care [N]', 'Geographicals [Z]', 'Analytical, Diagnostic and Therapeutic Techniques, and Equipment [E]', 'Organisms [B]', 'Diseases [C]', 'Humanities [K]', 'Psychiatry and Psychology [F]']\"\n        ],\n        \"semantic_type\": \"\",\n        \"description\": \"\"\n      }\n    }\n  ]\n}"
            }
          },
          "metadata": {},
          "execution_count": 595
        }
      ]
    },
    {
      "cell_type": "code",
      "source": [
        "answer_list = []\n",
        "for i in range(len(unseen_data)):\n",
        "  if 'Diseases [C]' in unseen_data.iloc[i].meshroot:\n",
        "    print(unseen_data.index[i], True)\n",
        "    answer_list.append(True)\n",
        "  else:\n",
        "    print(unseen_data.index[i], False)\n",
        "    answer_list.append(False)\n",
        "answer_array = np.array(answer_list)\n",
        "answer_array"
      ],
      "metadata": {
        "colab": {
          "base_uri": "https://localhost:8080/"
        },
        "id": "kE9lOxHfZP6m",
        "outputId": "a2a0a9fe-945d-4ee1-f341-423a559809db"
      },
      "execution_count": null,
      "outputs": [
        {
          "output_type": "stream",
          "name": "stdout",
          "text": [
            "9990 True\n",
            "9991 False\n",
            "9992 True\n",
            "9993 True\n",
            "9994 True\n",
            "9995 True\n",
            "9996 True\n",
            "9997 False\n",
            "9998 False\n",
            "9999 True\n"
          ]
        },
        {
          "output_type": "execute_result",
          "data": {
            "text/plain": [
              "array([ True, False,  True,  True,  True,  True,  True, False, False,\n",
              "        True])"
            ]
          },
          "metadata": {},
          "execution_count": 596
        }
      ]
    },
    {
      "cell_type": "code",
      "source": [
        "unseen_data = unseen_data.apply(remove_punctoation, axis=1)\n",
        "unseen_data = unseen_data.apply(lemmatize_text, axis=1)\n",
        "unseen_data_count_vectors = vectorizer.transform(unseen_data.abstracttext)\n",
        "unseen_data_tfidf_vectors = TFIDF_vectorizer.transform(unseen_data.abstracttext)"
      ],
      "metadata": {
        "id": "-zJaEPHxX-Lk"
      },
      "execution_count": null,
      "outputs": []
    },
    {
      "cell_type": "markdown",
      "source": [
        "Count vectorizer"
      ],
      "metadata": {
        "id": "KFUrv3pFYbdZ"
      }
    },
    {
      "cell_type": "code",
      "source": [
        "y_unseen_count_vectoers = model.predict(unseen_data_count_vectors)\n",
        "y_unseen_count_vectoers"
      ],
      "metadata": {
        "colab": {
          "base_uri": "https://localhost:8080/"
        },
        "id": "E5D0AMnxYO96",
        "outputId": "5ac68023-bca3-410a-acbe-bc2d36edaea2"
      },
      "execution_count": null,
      "outputs": [
        {
          "output_type": "execute_result",
          "data": {
            "text/plain": [
              "array([ True, False,  True,  True, False,  True,  True, False, False,\n",
              "        True])"
            ]
          },
          "metadata": {},
          "execution_count": 598
        }
      ]
    },
    {
      "cell_type": "code",
      "source": [
        "confusion_matrix(answer_array, y_unseen_count_vectoers)"
      ],
      "metadata": {
        "colab": {
          "base_uri": "https://localhost:8080/"
        },
        "id": "_u2zHeK11UUO",
        "outputId": "1b805084-3eef-4f00-ee4b-81b6ba2e10d0"
      },
      "execution_count": null,
      "outputs": [
        {
          "output_type": "execute_result",
          "data": {
            "text/plain": [
              "array([[3, 0],\n",
              "       [1, 6]])"
            ]
          },
          "metadata": {},
          "execution_count": 599
        }
      ]
    },
    {
      "cell_type": "code",
      "source": [
        "print(classification_report(answer_array, y_unseen_count_vectoers))"
      ],
      "metadata": {
        "colab": {
          "base_uri": "https://localhost:8080/"
        },
        "id": "YEfUqowI1RPG",
        "outputId": "2c3dd676-5f51-425e-9ddf-b495e205399e"
      },
      "execution_count": null,
      "outputs": [
        {
          "output_type": "stream",
          "name": "stdout",
          "text": [
            "              precision    recall  f1-score   support\n",
            "\n",
            "       False       0.75      1.00      0.86         3\n",
            "        True       1.00      0.86      0.92         7\n",
            "\n",
            "    accuracy                           0.90        10\n",
            "   macro avg       0.88      0.93      0.89        10\n",
            "weighted avg       0.93      0.90      0.90        10\n",
            "\n"
          ]
        }
      ]
    },
    {
      "cell_type": "markdown",
      "source": [
        "TFIDF vectorizer"
      ],
      "metadata": {
        "id": "LBkQgzSxYbz6"
      }
    },
    {
      "cell_type": "code",
      "source": [
        "y_unseen_tfidf_vectors = dt_model.predict(unseen_data_tfidf_vectors)\n",
        "y_unseen_tfidf_vectors"
      ],
      "metadata": {
        "colab": {
          "base_uri": "https://localhost:8080/"
        },
        "id": "6Mx7CeUOYS-d",
        "outputId": "5aabf98a-11b6-4f7c-9e02-bece0cb125b2"
      },
      "execution_count": null,
      "outputs": [
        {
          "output_type": "execute_result",
          "data": {
            "text/plain": [
              "array([ True, False,  True, False,  True,  True, False, False, False,\n",
              "       False])"
            ]
          },
          "metadata": {},
          "execution_count": 601
        }
      ]
    },
    {
      "cell_type": "code",
      "source": [
        "confusion_matrix(answer_array, y_unseen_tfidf_vectors)"
      ],
      "metadata": {
        "colab": {
          "base_uri": "https://localhost:8080/"
        },
        "id": "O5JSV1Sd1Why",
        "outputId": "0fc84445-ac4f-4ce2-e87a-934f850308fe"
      },
      "execution_count": null,
      "outputs": [
        {
          "output_type": "execute_result",
          "data": {
            "text/plain": [
              "array([[3, 0],\n",
              "       [3, 4]])"
            ]
          },
          "metadata": {},
          "execution_count": 602
        }
      ]
    },
    {
      "cell_type": "code",
      "source": [
        "print(classification_report(answer_array, y_unseen_tfidf_vectors))"
      ],
      "metadata": {
        "colab": {
          "base_uri": "https://localhost:8080/"
        },
        "id": "nrQtl82g1X-c",
        "outputId": "e2ee6623-2265-4a9c-ffd6-aa8e096e93b3"
      },
      "execution_count": null,
      "outputs": [
        {
          "output_type": "stream",
          "name": "stdout",
          "text": [
            "              precision    recall  f1-score   support\n",
            "\n",
            "       False       0.50      1.00      0.67         3\n",
            "        True       1.00      0.57      0.73         7\n",
            "\n",
            "    accuracy                           0.70        10\n",
            "   macro avg       0.75      0.79      0.70        10\n",
            "weighted avg       0.85      0.70      0.71        10\n",
            "\n"
          ]
        }
      ]
    }
  ]
}